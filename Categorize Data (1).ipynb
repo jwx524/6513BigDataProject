{
 "cells": [
  {
   "cell_type": "code",
   "execution_count": 1,
   "metadata": {},
   "outputs": [],
   "source": [
    "import pandas as pd\n",
    "import numpy as np\n",
    "from matplotlib import pyplot as plt"
   ]
  },
  {
   "cell_type": "code",
   "execution_count": 2,
   "metadata": {},
   "outputs": [],
   "source": [
    "pd.set_option('display.max_columns', None)"
   ]
  },
  {
   "cell_type": "code",
   "execution_count": 3,
   "metadata": {
    "scrolled": false
   },
   "outputs": [
    {
     "name": "stderr",
     "output_type": "stream",
     "text": [
      "C:\\Users\\admin\\Anaconda3\\lib\\site-packages\\IPython\\core\\interactiveshell.py:3147: DtypeWarning: Columns (21) have mixed types.Specify dtype option on import or set low_memory=False.\n",
      "  interactivity=interactivity, compiler=compiler, result=result)\n"
     ]
    }
   ],
   "source": [
    "df=pd.read_csv(\"./pluto_rodent_merged.csv\")"
   ]
  },
  {
   "cell_type": "code",
   "execution_count": 4,
   "metadata": {
    "scrolled": false
   },
   "outputs": [],
   "source": [
    "data_merge = df.copy(deep=True)\n"
   ]
  },
  {
   "cell_type": "code",
   "execution_count": 5,
   "metadata": {
    "scrolled": true
   },
   "outputs": [
    {
     "data": {
      "text/plain": [
       "(2294210, 45)"
      ]
     },
     "execution_count": 5,
     "metadata": {},
     "output_type": "execute_result"
    }
   ],
   "source": [
    "data_merge.shape"
   ]
  },
  {
   "cell_type": "markdown",
   "metadata": {},
   "source": [
    "# BUILDING CLASS"
   ]
  },
  {
   "cell_type": "code",
   "execution_count": 6,
   "metadata": {
    "scrolled": false
   },
   "outputs": [
    {
     "data": {
      "text/plain": [
       "841"
      ]
     },
     "execution_count": 6,
     "metadata": {},
     "output_type": "execute_result"
    }
   ],
   "source": [
    "data_merge[\"bldgclass\"].isnull().sum()"
   ]
  },
  {
   "cell_type": "code",
   "execution_count": 7,
   "metadata": {},
   "outputs": [],
   "source": [
    "data_merge['bldgclass'] = data_merge['bldgclass'].astype(str).str[0]\n"
   ]
  },
  {
   "cell_type": "code",
   "execution_count": 8,
   "metadata": {},
   "outputs": [],
   "source": [
    "data_merge.loc[(data_merge[\"bldgclass\"]=='n'), \"bldgclass\"] = np.nan"
   ]
  },
  {
   "cell_type": "code",
   "execution_count": 9,
   "metadata": {},
   "outputs": [
    {
     "data": {
      "text/plain": [
       "841"
      ]
     },
     "execution_count": 9,
     "metadata": {},
     "output_type": "execute_result"
    }
   ],
   "source": [
    "data_merge[\"bldgclass\"].isnull().sum()"
   ]
  },
  {
   "cell_type": "code",
   "execution_count": 10,
   "metadata": {
    "scrolled": true
   },
   "outputs": [
    {
     "data": {
      "text/plain": [
       "C    895166\n",
       "B    368391\n",
       "D    258609\n",
       "A    172817\n",
       "S    129013\n",
       "K     98848\n",
       "V     71248\n",
       "G     49412\n",
       "R     45188\n",
       "Q     42327\n",
       "O     34833\n",
       "M     31352\n",
       "W     20558\n",
       "E     12659\n",
       "H     12189\n",
       "Z      9747\n",
       "I      9214\n",
       "N      7507\n",
       "F      7309\n",
       "P      6020\n",
       "U      5614\n",
       "Y      2912\n",
       "J      1608\n",
       "T       828\n",
       "Name: bldgclass, dtype: int64"
      ]
     },
     "execution_count": 10,
     "metadata": {},
     "output_type": "execute_result"
    }
   ],
   "source": [
    "data_merge[\"bldgclass\"].value_counts()"
   ]
  },
  {
   "cell_type": "markdown",
   "metadata": {},
   "source": [
    "# LAND USE CATEGORY"
   ]
  },
  {
   "cell_type": "code",
   "execution_count": 11,
   "metadata": {
    "scrolled": true
   },
   "outputs": [
    {
     "data": {
      "text/plain": [
       "7327"
      ]
     },
     "execution_count": 11,
     "metadata": {},
     "output_type": "execute_result"
    }
   ],
   "source": [
    "data_merge[\"landuse\"].isnull().sum()"
   ]
  },
  {
   "cell_type": "code",
   "execution_count": 12,
   "metadata": {
    "scrolled": false
   },
   "outputs": [
    {
     "data": {
      "text/plain": [
       "2.0     748687\n",
       "1.0     541766\n",
       "4.0     417380\n",
       "3.0     193498\n",
       "5.0     116262\n",
       "8.0      80286\n",
       "11.0     71248\n",
       "9.0      42854\n",
       "10.0     36638\n",
       "6.0      19989\n",
       "7.0      18275\n",
       "Name: landuse, dtype: int64"
      ]
     },
     "execution_count": 12,
     "metadata": {},
     "output_type": "execute_result"
    }
   ],
   "source": [
    "data_merge[\"landuse\"].value_counts()"
   ]
  },
  {
   "cell_type": "code",
   "execution_count": 13,
   "metadata": {},
   "outputs": [],
   "source": [
    "data_merge['landuse'] = pd.Categorical(data_merge.landuse)\n",
    "data_merge['landuse'] = data_merge['landuse'].cat.rename_categories([\"One & Two Family Buildings\",\"Multi-Family Walk-Up Buildings\",\"Multi-Family Elevator Buildings\",\"Mixed Residential & Commercial Buildings\",\"Commercial & Office Buildings\",\"Industrial & Manufacturing\",\"Transportation & Utility\",\"Public Facilities & Institutions\",\"Open Space & Outdoor Recreation\",\"Parking Facilities\",\"Vacant Land\"])"
   ]
  },
  {
   "cell_type": "code",
   "execution_count": 14,
   "metadata": {},
   "outputs": [
    {
     "data": {
      "text/plain": [
       "Multi-Family Walk-Up Buildings              748687\n",
       "One & Two Family Buildings                  541766\n",
       "Mixed Residential & Commercial Buildings    417380\n",
       "Multi-Family Elevator Buildings             193498\n",
       "Commercial & Office Buildings               116262\n",
       "Public Facilities & Institutions             80286\n",
       "Vacant Land                                  71248\n",
       "Open Space & Outdoor Recreation              42854\n",
       "Parking Facilities                           36638\n",
       "Industrial & Manufacturing                   19989\n",
       "Transportation & Utility                     18275\n",
       "Name: landuse, dtype: int64"
      ]
     },
     "execution_count": 14,
     "metadata": {},
     "output_type": "execute_result"
    }
   ],
   "source": [
    "data_merge[\"landuse\"].value_counts()"
   ]
  },
  {
   "cell_type": "markdown",
   "metadata": {},
   "source": [
    "# LOT AREA"
   ]
  },
  {
   "cell_type": "code",
   "execution_count": 15,
   "metadata": {
    "scrolled": true
   },
   "outputs": [
    {
     "data": {
      "text/plain": [
       "845"
      ]
     },
     "execution_count": 15,
     "metadata": {},
     "output_type": "execute_result"
    }
   ],
   "source": [
    "data_merge[\"lotarea\"].isnull().sum()"
   ]
  },
  {
   "cell_type": "code",
   "execution_count": 16,
   "metadata": {},
   "outputs": [],
   "source": [
    "data_merge.loc[(data_merge[\"lotarea\"]==0), \"lotarea\"] = np.nan"
   ]
  },
  {
   "cell_type": "code",
   "execution_count": 17,
   "metadata": {
    "scrolled": false
   },
   "outputs": [
    {
     "data": {
      "text/plain": [
       "1399"
      ]
     },
     "execution_count": 17,
     "metadata": {},
     "output_type": "execute_result"
    }
   ],
   "source": [
    "data_merge[\"lotarea\"].isnull().sum()"
   ]
  },
  {
   "cell_type": "code",
   "execution_count": 18,
   "metadata": {},
   "outputs": [
    {
     "name": "stdout",
     "output_type": "stream",
     "text": [
      "\n",
      " The min is:  1.0 \n",
      " The max is:  36589999.0 \n",
      " The average is:  12964.054077287661 \n",
      " The std is:  213418.11881008607 \n",
      " The std is:  105.57045815679095\n"
     ]
    }
   ],
   "source": [
    "print(\"\\n The min is: \", data_merge[\"lotarea\"].min() , '\\n',\\\n",
    "      \"The max is: \", data_merge[\"lotarea\"].max(), '\\n',\\\n",
    "      \"The average is: \", data_merge[\"lotarea\"].mean(),'\\n',\\\n",
    "     \"The std is: \", data_merge[\"lotarea\"].std(),'\\n',\\\n",
    "     \"The std is: \", data_merge[\"lotarea\"].skew())"
   ]
  },
  {
   "cell_type": "code",
   "execution_count": 19,
   "metadata": {
    "scrolled": false
   },
   "outputs": [
    {
     "data": {
      "text/plain": [
       "<AxesSubplot:>"
      ]
     },
     "execution_count": 19,
     "metadata": {},
     "output_type": "execute_result"
    },
    {
     "data": {
      "image/png": "[encoded data removed]",
      "text/plain": [
       "<Figure size 432x288 with 1 Axes>"
      ]
     },
     "metadata": {
      "needs_background": "light"
     },
     "output_type": "display_data"
    }
   ],
   "source": [
    "data_merge[\"lotarea\"].plot(style='.')"
   ]
  },
  {
   "cell_type": "code",
   "execution_count": 20,
   "metadata": {
    "scrolled": true
   },
   "outputs": [
    {
     "data": {
      "text/plain": [
       "<AxesSubplot:>"
      ]
     },
     "execution_count": 20,
     "metadata": {},
     "output_type": "execute_result"
    },
    {
     "data": {
      "image/png": "[encoded data removed]",
      "text/plain": [
       "<Figure size 432x288 with 1 Axes>"
      ]
     },
     "metadata": {
      "needs_background": "light"
     },
     "output_type": "display_data"
    }
   ],
   "source": [
    "data_merge[\"lotarea\"].loc[data_merge[\"lotarea\"] >= 1000000].plot(style='.')"
   ]
  },
  {
   "cell_type": "code",
   "execution_count": 21,
   "metadata": {},
   "outputs": [
    {
     "name": "stdout",
     "output_type": "stream",
     "text": [
      "The quantile is \t 2000.0 \t 2522.0 \t 5361.0\n"
     ]
    }
   ],
   "source": [
    "print(\"The quantile is \\t\", data_merge[\"lotarea\"].loc[data_merge[\"lotarea\"] < 1000000 ].quantile(0.25) ,\\\n",
    "     '\\t', data_merge[\"lotarea\"].loc[data_merge[\"lotarea\"] < 1000000 ].quantile(0.50), \\\n",
    "     '\\t', data_merge[\"lotarea\"].loc[data_merge[\"lotarea\"] < 1000000 ].quantile(0.75))"
   ]
  },
  {
   "cell_type": "code",
   "execution_count": 22,
   "metadata": {
    "scrolled": false
   },
   "outputs": [
    {
     "data": {
      "text/plain": [
       "(0.999, 2000.0]            623709\n",
       "(2000.0, 2522.0]           531694\n",
       "(2522.0, 5361.0]           562786\n",
       "(5361.0, 1000000.0]        572628\n",
       "(1000000.0, 36590000.0]      1994\n",
       "Name: lotarea, dtype: int64"
      ]
     },
     "execution_count": 22,
     "metadata": {},
     "output_type": "execute_result"
    }
   ],
   "source": [
    "data_merge['lotarea'].value_counts(bins = [1,2000,2522,5361,1000000,36590000], sort = False)"
   ]
  },
  {
   "cell_type": "code",
   "execution_count": 23,
   "metadata": {},
   "outputs": [],
   "source": [
    "bins = [1,2000,2522,5361,1000000,36590000]\n",
    "data_merge['lotarea'] = pd.cut(data_merge['lotarea'], bins, labels=[\"lot_area_1\",\"lot_area_2\",\"lot_area_3\",\"lot_area_4\",\"lot_area_5\"])"
   ]
  },
  {
   "cell_type": "code",
   "execution_count": 24,
   "metadata": {
    "scrolled": false
   },
   "outputs": [
    {
     "data": {
      "text/plain": [
       "lot_area_1    623669\n",
       "lot_area_4    572628\n",
       "lot_area_3    562786\n",
       "lot_area_2    531694\n",
       "lot_area_5      1994\n",
       "Name: lotarea, dtype: int64"
      ]
     },
     "execution_count": 24,
     "metadata": {},
     "output_type": "execute_result"
    }
   ],
   "source": [
    "data_merge['lotarea'].value_counts()"
   ]
  },
  {
   "cell_type": "markdown",
   "metadata": {},
   "source": [
    "# NUMBER OF BUILDINGS"
   ]
  },
  {
   "cell_type": "code",
   "execution_count": 25,
   "metadata": {
    "scrolled": true
   },
   "outputs": [
    {
     "data": {
      "text/plain": [
       "845"
      ]
     },
     "execution_count": 25,
     "metadata": {},
     "output_type": "execute_result"
    }
   ],
   "source": [
    "data_merge[\"numbldgs\"].isnull().sum()"
   ]
  },
  {
   "cell_type": "code",
   "execution_count": 26,
   "metadata": {
    "scrolled": true
   },
   "outputs": [
    {
     "data": {
      "text/html": [
       "<div>\n",
       "<style scoped>\n",
       "    .dataframe tbody tr th:only-of-type {\n",
       "        vertical-align: middle;\n",
       "    }\n",
       "\n",
       "    .dataframe tbody tr th {\n",
       "        vertical-align: top;\n",
       "    }\n",
       "\n",
       "    .dataframe thead th {\n",
       "        text-align: right;\n",
       "    }\n",
       "</style>\n",
       "<table border=\"1\" class=\"dataframe\">\n",
       "  <thead>\n",
       "    <tr style=\"text-align: right;\">\n",
       "      <th></th>\n",
       "      <th>Unnamed: 0</th>\n",
       "      <th>borough</th>\n",
       "      <th>block</th>\n",
       "      <th>lot</th>\n",
       "      <th>bldgclass</th>\n",
       "      <th>landuse</th>\n",
       "      <th>lotarea</th>\n",
       "      <th>numbldgs</th>\n",
       "      <th>numfloors</th>\n",
       "      <th>unitsres</th>\n",
       "      <th>unitstotal</th>\n",
       "      <th>lotfront</th>\n",
       "      <th>lotdepth</th>\n",
       "      <th>proxcode</th>\n",
       "      <th>lottype</th>\n",
       "      <th>bsmtcode</th>\n",
       "      <th>assesstot</th>\n",
       "      <th>yearbuilt</th>\n",
       "      <th>yearalter1</th>\n",
       "      <th>yearalter2</th>\n",
       "      <th>histdist</th>\n",
       "      <th>landmark</th>\n",
       "      <th>borocode</th>\n",
       "      <th>bbl</th>\n",
       "      <th>xcoord</th>\n",
       "      <th>ycoord</th>\n",
       "      <th>latitude</th>\n",
       "      <th>longitude</th>\n",
       "      <th>INSPECTION_TYPE</th>\n",
       "      <th>JOB_TICKET_OR_WORK_ORDER_ID</th>\n",
       "      <th>JOB_ID</th>\n",
       "      <th>JOB_PROGRESS</th>\n",
       "      <th>BBL</th>\n",
       "      <th>HOUSE_NUMBER</th>\n",
       "      <th>STREET_NAME</th>\n",
       "      <th>ZIP_CODE</th>\n",
       "      <th>X_COORD</th>\n",
       "      <th>Y_COORD</th>\n",
       "      <th>LATITUDE</th>\n",
       "      <th>LONGITUDE</th>\n",
       "      <th>BOROUGH</th>\n",
       "      <th>INSPECTION_DATE</th>\n",
       "      <th>RESULT</th>\n",
       "      <th>APPROVED_DATE</th>\n",
       "      <th>LOCATION</th>\n",
       "    </tr>\n",
       "  </thead>\n",
       "  <tbody>\n",
       "    <tr>\n",
       "      <th>954649</th>\n",
       "      <td>954649</td>\n",
       "      <td>QN</td>\n",
       "      <td>16350</td>\n",
       "      <td>400</td>\n",
       "      <td>A</td>\n",
       "      <td>One &amp; Two Family Buildings</td>\n",
       "      <td>lot_area_5</td>\n",
       "      <td>1849.0</td>\n",
       "      <td>1.0</td>\n",
       "      <td>1887.0</td>\n",
       "      <td>1906.0</td>\n",
       "      <td>2798.0</td>\n",
       "      <td>997.0</td>\n",
       "      <td>1.0</td>\n",
       "      <td>5.0</td>\n",
       "      <td>5.0</td>\n",
       "      <td>20311239.0</td>\n",
       "      <td>1938.0</td>\n",
       "      <td>0.0</td>\n",
       "      <td>0.0</td>\n",
       "      <td>NaN</td>\n",
       "      <td>NaN</td>\n",
       "      <td>4</td>\n",
       "      <td>4.163500e+09</td>\n",
       "      <td>1006277.0</td>\n",
       "      <td>142173.0</td>\n",
       "      <td>40.55688</td>\n",
       "      <td>-73.920731</td>\n",
       "      <td>Initial</td>\n",
       "      <td>11497032</td>\n",
       "      <td>PC7335099</td>\n",
       "      <td>1</td>\n",
       "      <td>4.163500e+09</td>\n",
       "      <td>134</td>\n",
       "      <td>CROSS BAY BOULEVARD</td>\n",
       "      <td>11693.0</td>\n",
       "      <td>1033884.0</td>\n",
       "      <td>163172.0</td>\n",
       "      <td>40.614402</td>\n",
       "      <td>-73.821231</td>\n",
       "      <td>Queens</td>\n",
       "      <td>2010-01-20 16:25:20</td>\n",
       "      <td>Failed for Other R</td>\n",
       "      <td>2010-01-26 15:49:13</td>\n",
       "      <td>(40.614402219567, -73.82123091062)</td>\n",
       "    </tr>\n",
       "    <tr>\n",
       "      <th>954650</th>\n",
       "      <td>954650</td>\n",
       "      <td>QN</td>\n",
       "      <td>16350</td>\n",
       "      <td>400</td>\n",
       "      <td>A</td>\n",
       "      <td>One &amp; Two Family Buildings</td>\n",
       "      <td>lot_area_5</td>\n",
       "      <td>1849.0</td>\n",
       "      <td>1.0</td>\n",
       "      <td>1887.0</td>\n",
       "      <td>1906.0</td>\n",
       "      <td>2798.0</td>\n",
       "      <td>997.0</td>\n",
       "      <td>1.0</td>\n",
       "      <td>5.0</td>\n",
       "      <td>5.0</td>\n",
       "      <td>20311239.0</td>\n",
       "      <td>1938.0</td>\n",
       "      <td>0.0</td>\n",
       "      <td>0.0</td>\n",
       "      <td>NaN</td>\n",
       "      <td>NaN</td>\n",
       "      <td>4</td>\n",
       "      <td>4.163500e+09</td>\n",
       "      <td>1006277.0</td>\n",
       "      <td>142173.0</td>\n",
       "      <td>40.55688</td>\n",
       "      <td>-73.920731</td>\n",
       "      <td>Initial</td>\n",
       "      <td>11498188</td>\n",
       "      <td>PC7340431</td>\n",
       "      <td>1</td>\n",
       "      <td>4.163500e+09</td>\n",
       "      <td>29</td>\n",
       "      <td>BEACH 222 STREET</td>\n",
       "      <td>11697.0</td>\n",
       "      <td>1003637.0</td>\n",
       "      <td>141574.0</td>\n",
       "      <td>40.555236</td>\n",
       "      <td>-73.930234</td>\n",
       "      <td>Queens</td>\n",
       "      <td>2010-02-17 13:50:00</td>\n",
       "      <td>Passed</td>\n",
       "      <td>2010-02-22 12:05:23</td>\n",
       "      <td>(40.555235813879, -73.930233648499)</td>\n",
       "    </tr>\n",
       "    <tr>\n",
       "      <th>954651</th>\n",
       "      <td>954651</td>\n",
       "      <td>QN</td>\n",
       "      <td>16350</td>\n",
       "      <td>400</td>\n",
       "      <td>A</td>\n",
       "      <td>One &amp; Two Family Buildings</td>\n",
       "      <td>lot_area_5</td>\n",
       "      <td>1849.0</td>\n",
       "      <td>1.0</td>\n",
       "      <td>1887.0</td>\n",
       "      <td>1906.0</td>\n",
       "      <td>2798.0</td>\n",
       "      <td>997.0</td>\n",
       "      <td>1.0</td>\n",
       "      <td>5.0</td>\n",
       "      <td>5.0</td>\n",
       "      <td>20311239.0</td>\n",
       "      <td>1938.0</td>\n",
       "      <td>0.0</td>\n",
       "      <td>0.0</td>\n",
       "      <td>NaN</td>\n",
       "      <td>NaN</td>\n",
       "      <td>4</td>\n",
       "      <td>4.163500e+09</td>\n",
       "      <td>1006277.0</td>\n",
       "      <td>142173.0</td>\n",
       "      <td>40.55688</td>\n",
       "      <td>-73.920731</td>\n",
       "      <td>Initial</td>\n",
       "      <td>11454392</td>\n",
       "      <td>PC7404278</td>\n",
       "      <td>1</td>\n",
       "      <td>4.163500e+09</td>\n",
       "      <td>3</td>\n",
       "      <td>LINCOLN WALK</td>\n",
       "      <td>11697.0</td>\n",
       "      <td>1006382.0</td>\n",
       "      <td>142684.0</td>\n",
       "      <td>40.558276</td>\n",
       "      <td>-73.920352</td>\n",
       "      <td>Queens</td>\n",
       "      <td>2019-03-14 14:50:05</td>\n",
       "      <td>Passed</td>\n",
       "      <td>2019-03-22 11:26:25</td>\n",
       "      <td>(40.558276079992, -73.920351809128)</td>\n",
       "    </tr>\n",
       "    <tr>\n",
       "      <th>954652</th>\n",
       "      <td>954652</td>\n",
       "      <td>QN</td>\n",
       "      <td>16350</td>\n",
       "      <td>400</td>\n",
       "      <td>A</td>\n",
       "      <td>One &amp; Two Family Buildings</td>\n",
       "      <td>lot_area_5</td>\n",
       "      <td>1849.0</td>\n",
       "      <td>1.0</td>\n",
       "      <td>1887.0</td>\n",
       "      <td>1906.0</td>\n",
       "      <td>2798.0</td>\n",
       "      <td>997.0</td>\n",
       "      <td>1.0</td>\n",
       "      <td>5.0</td>\n",
       "      <td>5.0</td>\n",
       "      <td>20311239.0</td>\n",
       "      <td>1938.0</td>\n",
       "      <td>0.0</td>\n",
       "      <td>0.0</td>\n",
       "      <td>NaN</td>\n",
       "      <td>NaN</td>\n",
       "      <td>4</td>\n",
       "      <td>4.163500e+09</td>\n",
       "      <td>1006277.0</td>\n",
       "      <td>142173.0</td>\n",
       "      <td>40.55688</td>\n",
       "      <td>-73.920731</td>\n",
       "      <td>Initial</td>\n",
       "      <td>11484188</td>\n",
       "      <td>PC7419546</td>\n",
       "      <td>1</td>\n",
       "      <td>4.163500e+09</td>\n",
       "      <td>484</td>\n",
       "      <td>SEABREEZE WALK</td>\n",
       "      <td>11697.0</td>\n",
       "      <td>1005645.0</td>\n",
       "      <td>143154.0</td>\n",
       "      <td>40.559568</td>\n",
       "      <td>-73.923003</td>\n",
       "      <td>Queens</td>\n",
       "      <td>2014-12-11 08:00:57</td>\n",
       "      <td>Passed</td>\n",
       "      <td>2014-12-16 09:39:55</td>\n",
       "      <td>(40.559567946767, -73.923002615833)</td>\n",
       "    </tr>\n",
       "  </tbody>\n",
       "</table>\n",
       "</div>"
      ],
      "text/plain": [
       "        Unnamed: 0 borough  block  lot bldgclass                     landuse  \\\n",
       "954649      954649      QN  16350  400         A  One & Two Family Buildings   \n",
       "954650      954650      QN  16350  400         A  One & Two Family Buildings   \n",
       "954651      954651      QN  16350  400         A  One & Two Family Buildings   \n",
       "954652      954652      QN  16350  400         A  One & Two Family Buildings   \n",
       "\n",
       "           lotarea  numbldgs  numfloors  unitsres  unitstotal  lotfront  \\\n",
       "954649  lot_area_5    1849.0        1.0    1887.0      1906.0    2798.0   \n",
       "954650  lot_area_5    1849.0        1.0    1887.0      1906.0    2798.0   \n",
       "954651  lot_area_5    1849.0        1.0    1887.0      1906.0    2798.0   \n",
       "954652  lot_area_5    1849.0        1.0    1887.0      1906.0    2798.0   \n",
       "\n",
       "        lotdepth  proxcode  lottype  bsmtcode   assesstot  yearbuilt  \\\n",
       "954649     997.0       1.0      5.0       5.0  20311239.0     1938.0   \n",
       "954650     997.0       1.0      5.0       5.0  20311239.0     1938.0   \n",
       "954651     997.0       1.0      5.0       5.0  20311239.0     1938.0   \n",
       "954652     997.0       1.0      5.0       5.0  20311239.0     1938.0   \n",
       "\n",
       "        yearalter1  yearalter2 histdist landmark  borocode           bbl  \\\n",
       "954649         0.0         0.0      NaN      NaN         4  4.163500e+09   \n",
       "954650         0.0         0.0      NaN      NaN         4  4.163500e+09   \n",
       "954651         0.0         0.0      NaN      NaN         4  4.163500e+09   \n",
       "954652         0.0         0.0      NaN      NaN         4  4.163500e+09   \n",
       "\n",
       "           xcoord    ycoord  latitude  longitude INSPECTION_TYPE  \\\n",
       "954649  1006277.0  142173.0  40.55688 -73.920731         Initial   \n",
       "954650  1006277.0  142173.0  40.55688 -73.920731         Initial   \n",
       "954651  1006277.0  142173.0  40.55688 -73.920731         Initial   \n",
       "954652  1006277.0  142173.0  40.55688 -73.920731         Initial   \n",
       "\n",
       "        JOB_TICKET_OR_WORK_ORDER_ID     JOB_ID  JOB_PROGRESS           BBL  \\\n",
       "954649                     11497032  PC7335099             1  4.163500e+09   \n",
       "954650                     11498188  PC7340431             1  4.163500e+09   \n",
       "954651                     11454392  PC7404278             1  4.163500e+09   \n",
       "954652                     11484188  PC7419546             1  4.163500e+09   \n",
       "\n",
       "       HOUSE_NUMBER          STREET_NAME  ZIP_CODE    X_COORD   Y_COORD  \\\n",
       "954649          134  CROSS BAY BOULEVARD   11693.0  1033884.0  163172.0   \n",
       "954650           29     BEACH 222 STREET   11697.0  1003637.0  141574.0   \n",
       "954651            3         LINCOLN WALK   11697.0  1006382.0  142684.0   \n",
       "954652          484       SEABREEZE WALK   11697.0  1005645.0  143154.0   \n",
       "\n",
       "         LATITUDE  LONGITUDE BOROUGH      INSPECTION_DATE              RESULT  \\\n",
       "954649  40.614402 -73.821231  Queens  2010-01-20 16:25:20  Failed for Other R   \n",
       "954650  40.555236 -73.930234  Queens  2010-02-17 13:50:00              Passed   \n",
       "954651  40.558276 -73.920352  Queens  2019-03-14 14:50:05              Passed   \n",
       "954652  40.559568 -73.923003  Queens  2014-12-11 08:00:57              Passed   \n",
       "\n",
       "              APPROVED_DATE                             LOCATION  \n",
       "954649  2010-01-26 15:49:13   (40.614402219567, -73.82123091062)  \n",
       "954650  2010-02-22 12:05:23  (40.555235813879, -73.930233648499)  \n",
       "954651  2019-03-22 11:26:25  (40.558276079992, -73.920351809128)  \n",
       "954652  2014-12-16 09:39:55  (40.559567946767, -73.923002615833)  "
      ]
     },
     "execution_count": 26,
     "metadata": {},
     "output_type": "execute_result"
    }
   ],
   "source": [
    "data_merge.loc[(data_merge[\"numbldgs\"]==1849.0)]"
   ]
  },
  {
   "cell_type": "code",
   "execution_count": 27,
   "metadata": {},
   "outputs": [
    {
     "name": "stdout",
     "output_type": "stream",
     "text": [
      "\n",
      " The min is:  0.0 \n",
      " The max is:  1849.0 \n",
      " The average is:  1.1781731211560305 \n",
      " The std is:  3.3251411849649775 \n",
      " The std is:  318.25927659733514\n"
     ]
    }
   ],
   "source": [
    "print(\"\\n The min is: \", data_merge[\"numbldgs\"].min() , '\\n',\\\n",
    "      \"The max is: \", data_merge[\"numbldgs\"].max(), '\\n',\\\n",
    "      \"The average is: \", data_merge[\"numbldgs\"].mean(),'\\n',\\\n",
    "     \"The std is: \", data_merge[\"numbldgs\"].std(),'\\n',\\\n",
    "     \"The std is: \", data_merge[\"numbldgs\"].skew())"
   ]
  },
  {
   "cell_type": "code",
   "execution_count": 28,
   "metadata": {
    "scrolled": true
   },
   "outputs": [
    {
     "data": {
      "text/plain": [
       "<AxesSubplot:>"
      ]
     },
     "execution_count": 28,
     "metadata": {},
     "output_type": "execute_result"
    },
    {
     "data": {
      "image/png": "[encoded data removed]",
      "text/plain": [
       "<Figure size 432x288 with 1 Axes>"
      ]
     },
     "metadata": {
      "needs_background": "light"
     },
     "output_type": "display_data"
    }
   ],
   "source": [
    "data_merge[\"numbldgs\"].plot(style='.')"
   ]
  },
  {
   "cell_type": "code",
   "execution_count": 29,
   "metadata": {
    "scrolled": true
   },
   "outputs": [
    {
     "data": {
      "text/plain": [
       "0.0      112504\n",
       "92.0         20\n",
       "142.0         1\n",
       "105.0         4\n",
       "47.0          8\n",
       "          ...  \n",
       "68.0          4\n",
       "73.0         37\n",
       "35.0         21\n",
       "37.0         88\n",
       "161.0         3\n",
       "Name: numbldgs, Length: 119, dtype: int64"
      ]
     },
     "execution_count": 29,
     "metadata": {},
     "output_type": "execute_result"
    }
   ],
   "source": [
    "data_merge['numbldgs'].value_counts( sort = False)"
   ]
  },
  {
   "cell_type": "code",
   "execution_count": 30,
   "metadata": {},
   "outputs": [
    {
     "name": "stdout",
     "output_type": "stream",
     "text": [
      "The quantile is \t 1.0 \t 1.0 \t 1.0\n"
     ]
    }
   ],
   "source": [
    "print(\"The quantile is \\t\", data_merge[\"numbldgs\"].loc[data_merge[\"numbldgs\"] < 1000000 ].quantile(0.25) ,\\\n",
    "     '\\t', data_merge[\"numbldgs\"].loc[data_merge[\"numbldgs\"] < 1000000 ].quantile(0.50), \\\n",
    "     '\\t', data_merge[\"numbldgs\"].loc[data_merge[\"numbldgs\"] < 1000000 ].quantile(0.75))"
   ]
  },
  {
   "cell_type": "code",
   "execution_count": 31,
   "metadata": {
    "scrolled": true
   },
   "outputs": [
    {
     "data": {
      "text/plain": [
       "47.0          8\n",
       "16.0        208\n",
       "2.0      198634\n",
       "14.0        417\n",
       "36.0         34\n",
       "15.0        218\n",
       "40.0          5\n",
       "26.0        134\n",
       "21.0         49\n",
       "39.0        231\n",
       "29.0         34\n",
       "3.0       22045\n",
       "13.0        411\n",
       "43.0         36\n",
       "24.0        109\n",
       "11.0       1075\n",
       "22.0         47\n",
       "19.0        187\n",
       "6.0        3214\n",
       "44.0          1\n",
       "5.0        4088\n",
       "30.0         79\n",
       "38.0         20\n",
       "46.0         61\n",
       "18.0        230\n",
       "33.0         17\n",
       "9.0        1130\n",
       "48.0         21\n",
       "25.0         19\n",
       "7.0        2111\n",
       "4.0        9672\n",
       "23.0         56\n",
       "12.0        593\n",
       "8.0        1812\n",
       "42.0          3\n",
       "41.0          9\n",
       "27.0         37\n",
       "1.0     1930935\n",
       "32.0         46\n",
       "28.0        203\n",
       "45.0          6\n",
       "10.0       1082\n",
       "31.0         12\n",
       "20.0        249\n",
       "17.0        359\n",
       "34.0         19\n",
       "35.0         21\n",
       "37.0         88\n",
       "Name: numbldgs, dtype: int64"
      ]
     },
     "execution_count": 31,
     "metadata": {},
     "output_type": "execute_result"
    }
   ],
   "source": [
    "data_merge[\"numbldgs\"].loc[((data_merge[\"numbldgs\"] < 50)  &  (data_merge[\"numbldgs\"] >0))].value_counts( sort = False)"
   ]
  },
  {
   "cell_type": "code",
   "execution_count": 32,
   "metadata": {},
   "outputs": [],
   "source": [
    "#data_merge['numbldgs'] = df['numbldgs']"
   ]
  },
  {
   "cell_type": "code",
   "execution_count": 33,
   "metadata": {},
   "outputs": [],
   "source": [
    "# [1, 2)         1930935\n",
    "# [2, 5)          230351\n",
    "# [0, 1)          112504\n",
    "# [5, 10)          12355\n",
    "# [10, 100)         6994\n",
    "# [100, 1850)        226\n",
    "bins = [0,1,2,5,10,100,1850 ]\n",
    "data_merge['numbldgs'] = pd.cut(data_merge['numbldgs'], bins, \\\n",
    "        right = False, include_lowest=True, \\\n",
    "        labels = [\"0building\",\"1building\",\"2-4builidngs\",\"5-9building\",\"10-99building\",\"100-1849building\"])"
   ]
  },
  {
   "cell_type": "code",
   "execution_count": 34,
   "metadata": {
    "scrolled": false
   },
   "outputs": [
    {
     "data": {
      "text/plain": [
       "1building           1930935\n",
       "2-4builidngs         230351\n",
       "0building            112504\n",
       "5-9building           12355\n",
       "10-99building          6994\n",
       "100-1849building        226\n",
       "Name: numbldgs, dtype: int64"
      ]
     },
     "execution_count": 34,
     "metadata": {},
     "output_type": "execute_result"
    }
   ],
   "source": [
    "data_merge['numbldgs'].value_counts()"
   ]
  },
  {
   "cell_type": "markdown",
   "metadata": {},
   "source": [
    "# NUMBER OF FLOORS"
   ]
  },
  {
   "cell_type": "code",
   "execution_count": 35,
   "metadata": {
    "scrolled": false
   },
   "outputs": [
    {
     "data": {
      "text/plain": [
       "150563"
      ]
     },
     "execution_count": 35,
     "metadata": {},
     "output_type": "execute_result"
    }
   ],
   "source": [
    "data_merge[\"numfloors\"].isnull().sum()"
   ]
  },
  {
   "cell_type": "code",
   "execution_count": 36,
   "metadata": {
    "scrolled": true
   },
   "outputs": [
    {
     "data": {
      "text/plain": [
       "2.00     490663\n",
       "3.00     487419\n",
       "5.00     328358\n",
       "4.00     262886\n",
       "6.00     227822\n",
       "          ...  \n",
       "6.30          1\n",
       "1.76          1\n",
       "2.40          1\n",
       "74.00         1\n",
       "0.00          1\n",
       "Name: numfloors, Length: 143, dtype: int64"
      ]
     },
     "execution_count": 36,
     "metadata": {},
     "output_type": "execute_result"
    }
   ],
   "source": [
    "data_merge[\"numfloors\"].value_counts()"
   ]
  },
  {
   "cell_type": "code",
   "execution_count": 37,
   "metadata": {},
   "outputs": [
    {
     "data": {
      "text/plain": [
       "1"
      ]
     },
     "execution_count": 37,
     "metadata": {},
     "output_type": "execute_result"
    }
   ],
   "source": [
    "(data_merge[\"numfloors\"]==0).sum()"
   ]
  },
  {
   "cell_type": "code",
   "execution_count": 38,
   "metadata": {
    "scrolled": false
   },
   "outputs": [
    {
     "data": {
      "text/html": [
       "<div>\n",
       "<style scoped>\n",
       "    .dataframe tbody tr th:only-of-type {\n",
       "        vertical-align: middle;\n",
       "    }\n",
       "\n",
       "    .dataframe tbody tr th {\n",
       "        vertical-align: top;\n",
       "    }\n",
       "\n",
       "    .dataframe thead th {\n",
       "        text-align: right;\n",
       "    }\n",
       "</style>\n",
       "<table border=\"1\" class=\"dataframe\">\n",
       "  <thead>\n",
       "    <tr style=\"text-align: right;\">\n",
       "      <th></th>\n",
       "      <th>Unnamed: 0</th>\n",
       "      <th>borough</th>\n",
       "      <th>block</th>\n",
       "      <th>lot</th>\n",
       "      <th>bldgclass</th>\n",
       "      <th>landuse</th>\n",
       "      <th>lotarea</th>\n",
       "      <th>numbldgs</th>\n",
       "      <th>numfloors</th>\n",
       "      <th>unitsres</th>\n",
       "      <th>unitstotal</th>\n",
       "      <th>lotfront</th>\n",
       "      <th>lotdepth</th>\n",
       "      <th>proxcode</th>\n",
       "      <th>lottype</th>\n",
       "      <th>bsmtcode</th>\n",
       "      <th>assesstot</th>\n",
       "      <th>yearbuilt</th>\n",
       "      <th>yearalter1</th>\n",
       "      <th>yearalter2</th>\n",
       "      <th>histdist</th>\n",
       "      <th>landmark</th>\n",
       "      <th>borocode</th>\n",
       "      <th>bbl</th>\n",
       "      <th>xcoord</th>\n",
       "      <th>ycoord</th>\n",
       "      <th>latitude</th>\n",
       "      <th>longitude</th>\n",
       "      <th>INSPECTION_TYPE</th>\n",
       "      <th>JOB_TICKET_OR_WORK_ORDER_ID</th>\n",
       "      <th>JOB_ID</th>\n",
       "      <th>JOB_PROGRESS</th>\n",
       "      <th>BBL</th>\n",
       "      <th>HOUSE_NUMBER</th>\n",
       "      <th>STREET_NAME</th>\n",
       "      <th>ZIP_CODE</th>\n",
       "      <th>X_COORD</th>\n",
       "      <th>Y_COORD</th>\n",
       "      <th>LATITUDE</th>\n",
       "      <th>LONGITUDE</th>\n",
       "      <th>BOROUGH</th>\n",
       "      <th>INSPECTION_DATE</th>\n",
       "      <th>RESULT</th>\n",
       "      <th>APPROVED_DATE</th>\n",
       "      <th>LOCATION</th>\n",
       "    </tr>\n",
       "  </thead>\n",
       "  <tbody>\n",
       "    <tr>\n",
       "      <th>256545</th>\n",
       "      <td>256545</td>\n",
       "      <td>BX</td>\n",
       "      <td>4250</td>\n",
       "      <td>41</td>\n",
       "      <td>Z</td>\n",
       "      <td>NaN</td>\n",
       "      <td>lot_area_4</td>\n",
       "      <td>1building</td>\n",
       "      <td>0.0</td>\n",
       "      <td>0.0</td>\n",
       "      <td>1.0</td>\n",
       "      <td>50.0</td>\n",
       "      <td>119.0</td>\n",
       "      <td>0.0</td>\n",
       "      <td>5.0</td>\n",
       "      <td>0.0</td>\n",
       "      <td>81000.0</td>\n",
       "      <td>1995.0</td>\n",
       "      <td>0.0</td>\n",
       "      <td>0.0</td>\n",
       "      <td>NaN</td>\n",
       "      <td>NaN</td>\n",
       "      <td>2</td>\n",
       "      <td>2.042500e+09</td>\n",
       "      <td>1031136.0</td>\n",
       "      <td>250703.0</td>\n",
       "      <td>40.854672</td>\n",
       "      <td>-73.830515</td>\n",
       "      <td>Initial</td>\n",
       "      <td>12603386</td>\n",
       "      <td>PC6870240</td>\n",
       "      <td>1</td>\n",
       "      <td>2.042500e+09</td>\n",
       "      <td>2119</td>\n",
       "      <td>ST PAUL AVENUE</td>\n",
       "      <td>10461.0</td>\n",
       "      <td>1031137.0</td>\n",
       "      <td>250703.0</td>\n",
       "      <td>40.854484</td>\n",
       "      <td>-73.830083</td>\n",
       "      <td>Bronx</td>\n",
       "      <td>2019-04-24 12:30:41</td>\n",
       "      <td>Passed</td>\n",
       "      <td>2019-04-30 14:34:04</td>\n",
       "      <td>(40.854484054838, -73.830083031827)</td>\n",
       "    </tr>\n",
       "  </tbody>\n",
       "</table>\n",
       "</div>"
      ],
      "text/plain": [
       "        Unnamed: 0 borough  block  lot bldgclass landuse     lotarea  \\\n",
       "256545      256545      BX   4250   41         Z     NaN  lot_area_4   \n",
       "\n",
       "         numbldgs  numfloors  unitsres  unitstotal  lotfront  lotdepth  \\\n",
       "256545  1building        0.0       0.0         1.0      50.0     119.0   \n",
       "\n",
       "        proxcode  lottype  bsmtcode  assesstot  yearbuilt  yearalter1  \\\n",
       "256545       0.0      5.0       0.0    81000.0     1995.0         0.0   \n",
       "\n",
       "        yearalter2 histdist landmark  borocode           bbl     xcoord  \\\n",
       "256545         0.0      NaN      NaN         2  2.042500e+09  1031136.0   \n",
       "\n",
       "          ycoord   latitude  longitude INSPECTION_TYPE  \\\n",
       "256545  250703.0  40.854672 -73.830515         Initial   \n",
       "\n",
       "        JOB_TICKET_OR_WORK_ORDER_ID     JOB_ID  JOB_PROGRESS           BBL  \\\n",
       "256545                     12603386  PC6870240             1  2.042500e+09   \n",
       "\n",
       "       HOUSE_NUMBER     STREET_NAME  ZIP_CODE    X_COORD   Y_COORD   LATITUDE  \\\n",
       "256545         2119  ST PAUL AVENUE   10461.0  1031137.0  250703.0  40.854484   \n",
       "\n",
       "        LONGITUDE BOROUGH      INSPECTION_DATE  RESULT        APPROVED_DATE  \\\n",
       "256545 -73.830083   Bronx  2019-04-24 12:30:41  Passed  2019-04-30 14:34:04   \n",
       "\n",
       "                                   LOCATION  \n",
       "256545  (40.854484054838, -73.830083031827)  "
      ]
     },
     "execution_count": 38,
     "metadata": {},
     "output_type": "execute_result"
    }
   ],
   "source": [
    "data_merge.loc[data_merge[\"numfloors\"]==0]"
   ]
  },
  {
   "cell_type": "code",
   "execution_count": 39,
   "metadata": {},
   "outputs": [],
   "source": [
    "# If the NUMBER OF FLOORS is null and the NUMBER OF BUILDINGS is greater than zero,\n",
    "#  then NUMBER OF FLOORS is not available for the tax lot.\n",
    "data_merge.loc[(data_merge[\"numfloors\"]==0), \"numfloors\"] = np.nan"
   ]
  },
  {
   "cell_type": "code",
   "execution_count": 40,
   "metadata": {
    "scrolled": false
   },
   "outputs": [
    {
     "data": {
      "text/plain": [
       "120800"
      ]
     },
     "execution_count": 40,
     "metadata": {},
     "output_type": "execute_result"
    }
   ],
   "source": [
    "(data_merge[\"numfloors\"]<2).sum()"
   ]
  },
  {
   "cell_type": "code",
   "execution_count": 41,
   "metadata": {
    "scrolled": true
   },
   "outputs": [
    {
     "name": "stdout",
     "output_type": "stream",
     "text": [
      "\n",
      " The min is:  1.0 \n",
      " The max is:  104.0 \n",
      " The average is:  4.114677852593152 \n",
      " The std is:  3.619529498822693 \n",
      " The std is:  5.73597926859162\n"
     ]
    }
   ],
   "source": [
    "print(\"\\n The min is: \", data_merge[\"numfloors\"].min() , '\\n',\\\n",
    "      \"The max is: \", data_merge[\"numfloors\"].max(), '\\n',\\\n",
    "      \"The average is: \", data_merge[\"numfloors\"].mean(),'\\n',\\\n",
    "     \"The std is: \", data_merge[\"numfloors\"].std(),'\\n',\\\n",
    "     \"The std is: \", data_merge[\"numfloors\"].skew())"
   ]
  },
  {
   "cell_type": "code",
   "execution_count": 42,
   "metadata": {
    "scrolled": true
   },
   "outputs": [
    {
     "data": {
      "image/png": "[encoded data removed]",
      "text/plain": [
       "<Figure size 432x288 with 1 Axes>"
      ]
     },
     "metadata": {
      "needs_background": "light"
     },
     "output_type": "display_data"
    }
   ],
   "source": [
    "plt.hist(data_merge[\"numfloors\"],bins = [0,1, 2,3,4,5,6,7,8,9,10,15,20,50]) #[1, 2)\n",
    "plt.show()"
   ]
  },
  {
   "cell_type": "code",
   "execution_count": 43,
   "metadata": {},
   "outputs": [],
   "source": [
    "#data_merge['numfloors'] = df['numfloors']"
   ]
  },
  {
   "cell_type": "code",
   "execution_count": 44,
   "metadata": {
    "scrolled": true
   },
   "outputs": [],
   "source": [
    "bins = [0,1, 2,3,5,10,50,105]  \n",
    "data_merge['numfloors'] = pd.cut(data_merge['numfloors'], bins, right = True, include_lowest=True,\\\n",
    "                                 labels =[\"1floor\",\"2floor\",\"3floor\",\"4-5floor\",\"6-10floor\",\"11-50floor\",\">50floor\"])"
   ]
  },
  {
   "cell_type": "code",
   "execution_count": 45,
   "metadata": {
    "scrolled": true
   },
   "outputs": [
    {
     "data": {
      "text/plain": [
       "4-5floor      599293\n",
       "3floor        559442\n",
       "2floor        499998\n",
       "6-10floor     296210\n",
       "1floor        111465\n",
       "11-50floor     76569\n",
       ">50floor         669\n",
       "Name: numfloors, dtype: int64"
      ]
     },
     "execution_count": 45,
     "metadata": {},
     "output_type": "execute_result"
    }
   ],
   "source": [
    "data_merge['numfloors'].value_counts()"
   ]
  },
  {
   "cell_type": "markdown",
   "metadata": {},
   "source": [
    "# TOTAL UNITS"
   ]
  },
  {
   "cell_type": "code",
   "execution_count": 46,
   "metadata": {},
   "outputs": [],
   "source": [
    "#data_merge['unitstotal']= df['unitstotal']"
   ]
  },
  {
   "cell_type": "code",
   "execution_count": 47,
   "metadata": {
    "scrolled": false
   },
   "outputs": [
    {
     "data": {
      "text/plain": [
       "873"
      ]
     },
     "execution_count": 47,
     "metadata": {},
     "output_type": "execute_result"
    }
   ],
   "source": [
    "data_merge['unitstotal'].isnull().sum()"
   ]
  },
  {
   "cell_type": "code",
   "execution_count": 48,
   "metadata": {
    "scrolled": true
   },
   "outputs": [
    {
     "data": {
      "text/plain": [
       "2.0       421182\n",
       "1.0       305703\n",
       "3.0       281456\n",
       "0.0       154064\n",
       "4.0       107731\n",
       "           ...  \n",
       "539.0          1\n",
       "639.0          1\n",
       "2995.0         1\n",
       "953.0          1\n",
       "802.0          1\n",
       "Name: unitstotal, Length: 746, dtype: int64"
      ]
     },
     "execution_count": 48,
     "metadata": {},
     "output_type": "execute_result"
    }
   ],
   "source": [
    "data_merge['unitstotal'].value_counts()"
   ]
  },
  {
   "cell_type": "code",
   "execution_count": 49,
   "metadata": {
    "scrolled": true
   },
   "outputs": [
    {
     "data": {
      "text/plain": [
       "10948.0"
      ]
     },
     "execution_count": 49,
     "metadata": {},
     "output_type": "execute_result"
    }
   ],
   "source": [
    "data_merge['unitstotal'].max()"
   ]
  },
  {
   "cell_type": "code",
   "execution_count": 50,
   "metadata": {
    "scrolled": false
   },
   "outputs": [
    {
     "data": {
      "text/plain": [
       "<AxesSubplot:>"
      ]
     },
     "execution_count": 50,
     "metadata": {},
     "output_type": "execute_result"
    },
    {
     "data": {
      "image/png": "[encoded data removed]",
      "text/plain": [
       "<Figure size 432x288 with 1 Axes>"
      ]
     },
     "metadata": {
      "needs_background": "light"
     },
     "output_type": "display_data"
    }
   ],
   "source": [
    "data_merge[\"unitstotal\"].plot(style='.')"
   ]
  },
  {
   "cell_type": "code",
   "execution_count": 51,
   "metadata": {
    "scrolled": false
   },
   "outputs": [
    {
     "data": {
      "text/plain": [
       "<AxesSubplot:>"
      ]
     },
     "execution_count": 51,
     "metadata": {},
     "output_type": "execute_result"
    },
    {
     "data": {
      "image/png": "[encoded data removed]",
      "text/plain": [
       "<Figure size 432x288 with 1 Axes>"
      ]
     },
     "metadata": {
      "needs_background": "light"
     },
     "output_type": "display_data"
    }
   ],
   "source": [
    "data_merge[\"unitstotal\"].loc[data_merge[\"unitstotal\"] <= 600].plot(style='.')"
   ]
  },
  {
   "cell_type": "code",
   "execution_count": 52,
   "metadata": {
    "scrolled": true
   },
   "outputs": [
    {
     "name": "stdout",
     "output_type": "stream",
     "text": [
      "The quantile is \t 2.0 \t 4.0 \t 17.0\n"
     ]
    }
   ],
   "source": [
    "print(\"The quantile is \\t\", data_merge[\"unitstotal\"].loc[data_merge[\"unitstotal\"] >0 ].quantile(0.25) ,\\\n",
    "     '\\t', data_merge[\"unitstotal\"].loc[data_merge[\"unitstotal\"] >0 ].quantile(0.50), \\\n",
    "     '\\t', data_merge[\"unitstotal\"].loc[data_merge[\"unitstotal\"] >0 ].quantile(0.75))"
   ]
  },
  {
   "cell_type": "code",
   "execution_count": 53,
   "metadata": {},
   "outputs": [],
   "source": [
    "bins = [0,2, 4,17,600,10948]  \n",
    "data_merge['unitstotal']= np.where(data_merge[\"unitstotal\"] == 0, 0, pd.cut(data_merge['unitstotal'], bins, right = True, include_lowest=False,labels = [1,2,3,4,5]))\n"
   ]
  },
  {
   "cell_type": "code",
   "execution_count": 54,
   "metadata": {
    "scrolled": false
   },
   "outputs": [
    {
     "data": {
      "text/plain": [
       "1.0    726885\n",
       "4.0    520083\n",
       "3.0    495152\n",
       "2.0    389187\n",
       "0.0    154064\n",
       "5.0      7966\n",
       "Name: unitstotal, dtype: int64"
      ]
     },
     "execution_count": 54,
     "metadata": {},
     "output_type": "execute_result"
    }
   ],
   "source": [
    "data_merge['unitstotal'].value_counts()"
   ]
  },
  {
   "cell_type": "code",
   "execution_count": 55,
   "metadata": {},
   "outputs": [],
   "source": [
    "data_merge['unitstotal'] = pd.Categorical(data_merge.unitstotal)\n",
    "data_merge['unitstotal'] = data_merge['unitstotal'].cat.rename_categories([\"0unit\",\"<=2units\",\"2-4units\",\"5-17units\",\"18-600units\",\">600units\"])"
   ]
  },
  {
   "cell_type": "code",
   "execution_count": 56,
   "metadata": {
    "scrolled": true
   },
   "outputs": [
    {
     "data": {
      "text/plain": [
       "<=2units       726885\n",
       "18-600units    520083\n",
       "5-17units      495152\n",
       "2-4units       389187\n",
       "0unit          154064\n",
       ">600units        7966\n",
       "Name: unitstotal, dtype: int64"
      ]
     },
     "execution_count": 56,
     "metadata": {},
     "output_type": "execute_result"
    }
   ],
   "source": [
    "data_merge['unitstotal'].value_counts()"
   ]
  },
  {
   "cell_type": "markdown",
   "metadata": {},
   "source": [
    "# Residential Unit"
   ]
  },
  {
   "cell_type": "code",
   "execution_count": 57,
   "metadata": {
    "scrolled": false
   },
   "outputs": [
    {
     "data": {
      "text/plain": [
       "873"
      ]
     },
     "execution_count": 57,
     "metadata": {},
     "output_type": "execute_result"
    }
   ],
   "source": [
    "data_merge['unitsres'].isnull().sum()"
   ]
  },
  {
   "cell_type": "code",
   "execution_count": 58,
   "metadata": {
    "scrolled": true
   },
   "outputs": [
    {
     "data": {
      "text/plain": [
       "0"
      ]
     },
     "execution_count": 58,
     "metadata": {},
     "output_type": "execute_result"
    }
   ],
   "source": [
    "(data_merge['unitstotal']==0).sum()"
   ]
  },
  {
   "cell_type": "code",
   "execution_count": 59,
   "metadata": {
    "scrolled": true
   },
   "outputs": [
    {
     "data": {
      "text/plain": [
       "154937"
      ]
     },
     "execution_count": 59,
     "metadata": {},
     "output_type": "execute_result"
    }
   ],
   "source": [
    "(df['unitsres']/df['unitstotal']).isnull().sum()"
   ]
  },
  {
   "cell_type": "code",
   "execution_count": 60,
   "metadata": {
    "scrolled": true
   },
   "outputs": [],
   "source": [
    "data_merge['unitsres'] = df['unitsres']/df['unitstotal']"
   ]
  },
  {
   "cell_type": "code",
   "execution_count": 61,
   "metadata": {
    "scrolled": false
   },
   "outputs": [
    {
     "data": {
      "text/plain": [
       "241208"
      ]
     },
     "execution_count": 61,
     "metadata": {},
     "output_type": "execute_result"
    }
   ],
   "source": [
    "(data_merge['unitsres']==0).sum()"
   ]
  },
  {
   "cell_type": "code",
   "execution_count": 62,
   "metadata": {
    "scrolled": true
   },
   "outputs": [
    {
     "data": {
      "text/plain": [
       "(array([2.417810e+05, 7.290000e+02, 2.345000e+03, 4.108000e+03,\n",
       "        3.460000e+03, 2.940500e+04, 5.795900e+04, 3.954000e+04,\n",
       "        1.367850e+05, 1.623161e+06]),\n",
       " array([0. , 0.1, 0.2, 0.3, 0.4, 0.5, 0.6, 0.7, 0.8, 0.9, 1. ]),\n",
       " <BarContainer object of 10 artists>)"
      ]
     },
     "execution_count": 62,
     "metadata": {},
     "output_type": "execute_result"
    },
    {
     "data": {
      "image/png": "[encoded data removed]",
      "text/plain": [
       "<Figure size 432x288 with 1 Axes>"
      ]
     },
     "metadata": {
      "needs_background": "light"
     },
     "output_type": "display_data"
    }
   ],
   "source": [
    "plt.hist(data_merge['unitsres'],bins = [0,0.1,0.2,0.3, 0.4,0.5,0.6,0.7,0.8,0.9,1])"
   ]
  },
  {
   "cell_type": "code",
   "execution_count": 63,
   "metadata": {},
   "outputs": [],
   "source": [
    "bins = [0,0.5, 0.9,1]  \n",
    "data_merge['unitsres']= np.where(data_merge[\"unitsres\"] == 0, 0, pd.cut(data_merge['unitsres'], bins, right = True, include_lowest=False,labels =[1,2,3]))\n"
   ]
  },
  {
   "cell_type": "code",
   "execution_count": 64,
   "metadata": {},
   "outputs": [
    {
     "data": {
      "text/plain": [
       "3.0    1608416\n",
       "2.0     252402\n",
       "0.0     241208\n",
       "1.0      37247\n",
       "Name: unitsres, dtype: int64"
      ]
     },
     "execution_count": 64,
     "metadata": {},
     "output_type": "execute_result"
    }
   ],
   "source": [
    "data_merge['unitsres'].value_counts()"
   ]
  },
  {
   "cell_type": "code",
   "execution_count": 65,
   "metadata": {},
   "outputs": [],
   "source": [
    "data_merge['unitsres'] = pd.Categorical(data_merge.unitsres)\n",
    "data_merge['unitsres'] = data_merge['unitsres'].cat.rename_categories([\"noresUnit\",\"(0,0.5]ptcresUnit\",\"(0.5,0.9]ptcresUnit\",\"(0.9,1]ptcresUnit\"])\n"
   ]
  },
  {
   "cell_type": "code",
   "execution_count": 66,
   "metadata": {},
   "outputs": [
    {
     "data": {
      "text/plain": [
       "(0.9,1]ptcresUnit      1608416\n",
       "(0.5,0.9]ptcresUnit     252402\n",
       "noresUnit               241208\n",
       "(0,0.5]ptcresUnit        37247\n",
       "Name: unitsres, dtype: int64"
      ]
     },
     "execution_count": 66,
     "metadata": {},
     "output_type": "execute_result"
    }
   ],
   "source": [
    "data_merge['unitsres'].value_counts()"
   ]
  },
  {
   "cell_type": "markdown",
   "metadata": {},
   "source": [
    "# LOT FRONTAGE"
   ]
  },
  {
   "cell_type": "code",
   "execution_count": 67,
   "metadata": {
    "scrolled": false
   },
   "outputs": [
    {
     "data": {
      "text/plain": [
       "845"
      ]
     },
     "execution_count": 67,
     "metadata": {},
     "output_type": "execute_result"
    }
   ],
   "source": [
    "data_merge[\"lotfront\"].isnull().sum()"
   ]
  },
  {
   "cell_type": "code",
   "execution_count": 68,
   "metadata": {
    "scrolled": true
   },
   "outputs": [
    {
     "data": {
      "text/plain": [
       "6082"
      ]
     },
     "execution_count": 68,
     "metadata": {},
     "output_type": "execute_result"
    }
   ],
   "source": [
    "(data_merge[\"lotfront\"]==0).sum()"
   ]
  },
  {
   "cell_type": "code",
   "execution_count": 69,
   "metadata": {},
   "outputs": [
    {
     "data": {
      "text/plain": [
       "9999.0"
      ]
     },
     "execution_count": 69,
     "metadata": {},
     "output_type": "execute_result"
    }
   ],
   "source": [
    "data_merge[\"lotfront\"].max()"
   ]
  },
  {
   "cell_type": "code",
   "execution_count": 70,
   "metadata": {},
   "outputs": [
    {
     "data": {
      "text/plain": [
       "<AxesSubplot:>"
      ]
     },
     "execution_count": 70,
     "metadata": {},
     "output_type": "execute_result"
    },
    {
     "data": {
      "image/png": "[encoded data removed]",
      "text/plain": [
       "<Figure size 432x288 with 1 Axes>"
      ]
     },
     "metadata": {
      "needs_background": "light"
     },
     "output_type": "display_data"
    }
   ],
   "source": [
    "data_merge[\"lotfront\"].plot(style='.')"
   ]
  },
  {
   "cell_type": "code",
   "execution_count": 71,
   "metadata": {
    "scrolled": true
   },
   "outputs": [
    {
     "data": {
      "text/plain": [
       "<AxesSubplot:>"
      ]
     },
     "execution_count": 71,
     "metadata": {},
     "output_type": "execute_result"
    },
    {
     "data": {
      "image/png": "[encoded data removed]",
      "text/plain": [
       "<Figure size 432x288 with 1 Axes>"
      ]
     },
     "metadata": {
      "needs_background": "light"
     },
     "output_type": "display_data"
    }
   ],
   "source": [
    "data_merge[\"lotfront\"].loc[data_merge[\"lotfront\"] >= 1000].plot(style='.')"
   ]
  },
  {
   "cell_type": "code",
   "execution_count": 72,
   "metadata": {
    "scrolled": true
   },
   "outputs": [
    {
     "data": {
      "text/plain": [
       "<AxesSubplot:>"
      ]
     },
     "execution_count": 72,
     "metadata": {},
     "output_type": "execute_result"
    },
    {
     "data": {
      "image/png": "[encoded data removed]",
      "text/plain": [
       "<Figure size 432x288 with 1 Axes>"
      ]
     },
     "metadata": {
      "needs_background": "light"
     },
     "output_type": "display_data"
    }
   ],
   "source": [
    "data_merge[\"lotfront\"].loc[data_merge[\"lotfront\"] < 1000].plot(style='.')"
   ]
  },
  {
   "cell_type": "code",
   "execution_count": 73,
   "metadata": {},
   "outputs": [
    {
     "name": "stdout",
     "output_type": "stream",
     "text": [
      "The quantile is \t 20.33 \t 25.0 \t 52.67\n"
     ]
    }
   ],
   "source": [
    "print(\"The quantile is \\t\", data_merge[\"lotfront\"].loc[((data_merge[\"lotfront\"] < 1000)  &  (data_merge[\"lotfront\"] >0))].quantile(0.25) ,\\\n",
    "     '\\t', data_merge[\"lotfront\"].loc[((data_merge[\"lotfront\"] < 1000)  &  (data_merge[\"lotfront\"] >0))].quantile(0.50), \\\n",
    "     '\\t', data_merge[\"lotfront\"].loc[((data_merge[\"lotfront\"] < 1000)  &  (data_merge[\"lotfront\"] >0))].quantile(0.75))"
   ]
  },
  {
   "cell_type": "code",
   "execution_count": 74,
   "metadata": {},
   "outputs": [],
   "source": [
    "bins = [0,20, 25,53,1000,10000]  \n",
    "data_merge['lotfront']= np.where(data_merge[\"lotfront\"] == 0, 0, pd.cut(data_merge['lotfront'], bins, right = True, include_lowest=False,labels =[1,2,3,4,5]))\n"
   ]
  },
  {
   "cell_type": "code",
   "execution_count": 75,
   "metadata": {
    "scrolled": false
   },
   "outputs": [
    {
     "data": {
      "text/plain": [
       "2.0    585540\n",
       "3.0    572837\n",
       "4.0    568913\n",
       "1.0    557666\n",
       "0.0      6082\n",
       "5.0      2327\n",
       "Name: lotfront, dtype: int64"
      ]
     },
     "execution_count": 75,
     "metadata": {},
     "output_type": "execute_result"
    }
   ],
   "source": [
    "data_merge['lotfront'].value_counts()"
   ]
  },
  {
   "cell_type": "code",
   "execution_count": 76,
   "metadata": {},
   "outputs": [],
   "source": [
    "data_merge['lotfront'] = pd.Categorical(data_merge.lotfront)\n",
    "data_merge['lotfront'] = data_merge['lotfront'].cat.rename_categories([\"0lotfront\",\\\n",
    "\"1lotfront\",\\\n",
    "\"2lotfront\",\\\n",
    "\"3lotfront\",\\\n",
    "\"4lotfront\",\\\n",
    "\"5lotfront\"])\n"
   ]
  },
  {
   "cell_type": "code",
   "execution_count": 77,
   "metadata": {},
   "outputs": [
    {
     "data": {
      "text/plain": [
       "2lotfront    585540\n",
       "3lotfront    572837\n",
       "4lotfront    568913\n",
       "1lotfront    557666\n",
       "0lotfront      6082\n",
       "5lotfront      2327\n",
       "Name: lotfront, dtype: int64"
      ]
     },
     "execution_count": 77,
     "metadata": {},
     "output_type": "execute_result"
    }
   ],
   "source": [
    "data_merge['lotfront'].value_counts()"
   ]
  },
  {
   "cell_type": "markdown",
   "metadata": {},
   "source": [
    "# PROXIMITY CODE"
   ]
  },
  {
   "cell_type": "code",
   "execution_count": 78,
   "metadata": {},
   "outputs": [],
   "source": [
    "#data_merge[\"proxcode\"]=df[\"proxcode\"]"
   ]
  },
  {
   "cell_type": "code",
   "execution_count": 79,
   "metadata": {
    "scrolled": false
   },
   "outputs": [
    {
     "data": {
      "text/plain": [
       "845"
      ]
     },
     "execution_count": 79,
     "metadata": {},
     "output_type": "execute_result"
    }
   ],
   "source": [
    "data_merge[\"proxcode\"].isnull().sum()"
   ]
  },
  {
   "cell_type": "code",
   "execution_count": 80,
   "metadata": {
    "scrolled": true
   },
   "outputs": [
    {
     "data": {
      "text/plain": [
       "3.0    776470\n",
       "0.0    761538\n",
       "2.0    431655\n",
       "1.0    323702\n",
       "Name: proxcode, dtype: int64"
      ]
     },
     "execution_count": 80,
     "metadata": {},
     "output_type": "execute_result"
    }
   ],
   "source": [
    "data_merge[\"proxcode\"].value_counts()"
   ]
  },
  {
   "cell_type": "code",
   "execution_count": 81,
   "metadata": {
    "scrolled": false
   },
   "outputs": [
    {
     "data": {
      "text/plain": [
       "0.21680645838298135"
      ]
     },
     "execution_count": 81,
     "metadata": {},
     "output_type": "execute_result"
    }
   ],
   "source": [
    "(761538+845)/3516422"
   ]
  },
  {
   "cell_type": "code",
   "execution_count": 82,
   "metadata": {},
   "outputs": [],
   "source": [
    "data_merge.loc[(data_merge[\"proxcode\"]==0), \"proxcode\"] = np.nan"
   ]
  },
  {
   "cell_type": "code",
   "execution_count": 83,
   "metadata": {},
   "outputs": [],
   "source": [
    "data_merge['proxcode'] = pd.Categorical(data_merge.proxcode)\n",
    "data_merge['proxcode'] = data_merge['proxcode'].cat.rename_categories([\"Detached\", \"Semi-attached\", \"Attached\"])\n"
   ]
  },
  {
   "cell_type": "code",
   "execution_count": 84,
   "metadata": {},
   "outputs": [
    {
     "data": {
      "text/plain": [
       "Attached         776470\n",
       "Semi-attached    431655\n",
       "Detached         323702\n",
       "Name: proxcode, dtype: int64"
      ]
     },
     "execution_count": 84,
     "metadata": {},
     "output_type": "execute_result"
    }
   ],
   "source": [
    "data_merge[\"proxcode\"].value_counts()"
   ]
  },
  {
   "cell_type": "code",
   "execution_count": 85,
   "metadata": {},
   "outputs": [
    {
     "data": {
      "text/plain": [
       "762383"
      ]
     },
     "execution_count": 85,
     "metadata": {},
     "output_type": "execute_result"
    }
   ],
   "source": [
    "data_merge[\"proxcode\"].isnull().sum()"
   ]
  },
  {
   "cell_type": "markdown",
   "metadata": {},
   "source": [
    "# LOT TYPE"
   ]
  },
  {
   "cell_type": "code",
   "execution_count": 86,
   "metadata": {},
   "outputs": [],
   "source": [
    "#data_merge[\"lottype\"] = df[\"lottype\"]"
   ]
  },
  {
   "cell_type": "code",
   "execution_count": 87,
   "metadata": {
    "scrolled": false
   },
   "outputs": [
    {
     "data": {
      "text/plain": [
       "845"
      ]
     },
     "execution_count": 87,
     "metadata": {},
     "output_type": "execute_result"
    }
   ],
   "source": [
    "data_merge[\"lottype\"].isnull().sum()"
   ]
  },
  {
   "cell_type": "code",
   "execution_count": 88,
   "metadata": {},
   "outputs": [],
   "source": [
    "data_merge.loc[(data_merge[\"lottype\"]<1), \"lottype\"] = np.nan"
   ]
  },
  {
   "cell_type": "code",
   "execution_count": 89,
   "metadata": {
    "scrolled": false
   },
   "outputs": [
    {
     "data": {
      "text/plain": [
       "5.0    1745596\n",
       "3.0     465617\n",
       "4.0      27723\n",
       "1.0      15766\n",
       "6.0       4872\n",
       "8.0       2458\n",
       "2.0       2266\n",
       "9.0        748\n",
       "7.0        426\n",
       "Name: lottype, dtype: int64"
      ]
     },
     "execution_count": 89,
     "metadata": {},
     "output_type": "execute_result"
    }
   ],
   "source": [
    "data_merge[\"lottype\"].value_counts()"
   ]
  },
  {
   "cell_type": "code",
   "execution_count": 90,
   "metadata": {},
   "outputs": [],
   "source": [
    "data_merge['lottype'] = pd.Categorical(data_merge.lottype)\n",
    "data_merge['lottype'] = data_merge['lottype'].cat.rename_categories([\"BlockAssemblage\",\\\n",
    "\"Waterfront\",\\\n",
    "\"Corner\",\\\n",
    "\"Through\",\\\n",
    "\"Inside\",\\\n",
    "\"InteriorLot\",\\\n",
    "\"IslandLot\",\\\n",
    "\"AlleyLot\",\\\n",
    "\"SubmergedLandLot\"])\n"
   ]
  },
  {
   "cell_type": "code",
   "execution_count": 91,
   "metadata": {},
   "outputs": [
    {
     "data": {
      "text/plain": [
       "Inside              1745596\n",
       "Corner               465617\n",
       "Through               27723\n",
       "BlockAssemblage       15766\n",
       "InteriorLot            4872\n",
       "AlleyLot               2458\n",
       "Waterfront             2266\n",
       "SubmergedLandLot        748\n",
       "IslandLot               426\n",
       "Name: lottype, dtype: int64"
      ]
     },
     "execution_count": 91,
     "metadata": {},
     "output_type": "execute_result"
    }
   ],
   "source": [
    "data_merge[\"lottype\"].value_counts()"
   ]
  },
  {
   "cell_type": "markdown",
   "metadata": {},
   "source": [
    "# BASEMENT TYPE/GRADE"
   ]
  },
  {
   "cell_type": "code",
   "execution_count": 92,
   "metadata": {},
   "outputs": [
    {
     "data": {
      "text/plain": [
       "845"
      ]
     },
     "execution_count": 92,
     "metadata": {},
     "output_type": "execute_result"
    }
   ],
   "source": [
    "data_merge[\"bsmtcode\"].isnull().sum()"
   ]
  },
  {
   "cell_type": "code",
   "execution_count": 93,
   "metadata": {
    "scrolled": true
   },
   "outputs": [
    {
     "data": {
      "text/plain": [
       "2.0    963819\n",
       "0.0    489398\n",
       "5.0    439512\n",
       "1.0    389428\n",
       "4.0      8611\n",
       "3.0      2597\n",
       "Name: bsmtcode, dtype: int64"
      ]
     },
     "execution_count": 93,
     "metadata": {},
     "output_type": "execute_result"
    }
   ],
   "source": [
    "data_merge[\"bsmtcode\"].value_counts()"
   ]
  },
  {
   "cell_type": "code",
   "execution_count": 94,
   "metadata": {},
   "outputs": [],
   "source": [
    "#5 Unknown\n",
    "data_merge.loc[(data_merge[\"bsmtcode\"]>4), \"bsmtcode\"] = np.nan"
   ]
  },
  {
   "cell_type": "code",
   "execution_count": 95,
   "metadata": {
    "scrolled": true
   },
   "outputs": [
    {
     "data": {
      "text/plain": [
       "2.0    963819\n",
       "0.0    489398\n",
       "1.0    389428\n",
       "4.0      8611\n",
       "3.0      2597\n",
       "Name: bsmtcode, dtype: int64"
      ]
     },
     "execution_count": 95,
     "metadata": {},
     "output_type": "execute_result"
    }
   ],
   "source": [
    "data_merge[\"bsmtcode\"].value_counts()"
   ]
  },
  {
   "cell_type": "code",
   "execution_count": 96,
   "metadata": {},
   "outputs": [],
   "source": [
    "data_merge['bsmtcode'] = pd.Categorical(data_merge.bsmtcode)\n",
    "data_merge['bsmtcode'] = data_merge['bsmtcode'].cat.rename_categories([\"NoBasement\",\"AboveGradeFullBasement\",\"BelowGradeFullBasement\", \"AboveGradePartialBasement\" ,\"BelowGradePartialBasement\"])\n",
    "\n"
   ]
  },
  {
   "cell_type": "code",
   "execution_count": 97,
   "metadata": {},
   "outputs": [
    {
     "data": {
      "text/plain": [
       "BelowGradeFullBasement       963819\n",
       "NoBasement                   489398\n",
       "AboveGradeFullBasement       389428\n",
       "BelowGradePartialBasement      8611\n",
       "AboveGradePartialBasement      2597\n",
       "Name: bsmtcode, dtype: int64"
      ]
     },
     "execution_count": 97,
     "metadata": {},
     "output_type": "execute_result"
    }
   ],
   "source": [
    "data_merge[\"bsmtcode\"].value_counts()"
   ]
  },
  {
   "cell_type": "markdown",
   "metadata": {},
   "source": [
    "# Drop lotdepth"
   ]
  },
  {
   "cell_type": "code",
   "execution_count": 98,
   "metadata": {},
   "outputs": [],
   "source": [
    "data_merge = data_merge.drop('lotdepth', axis=1)"
   ]
  },
  {
   "cell_type": "markdown",
   "metadata": {},
   "source": [
    "# HISTORIC DISTRICT & LANDMARK"
   ]
  },
  {
   "cell_type": "code",
   "execution_count": 99,
   "metadata": {
    "scrolled": false
   },
   "outputs": [
    {
     "data": {
      "text/plain": [
       "2041008"
      ]
     },
     "execution_count": 99,
     "metadata": {},
     "output_type": "execute_result"
    }
   ],
   "source": [
    "data_merge[\"histdist\"].isnull().sum()"
   ]
  },
  {
   "cell_type": "code",
   "execution_count": 100,
   "metadata": {},
   "outputs": [],
   "source": [
    "data_merge['histdist'] = data_merge['histdist'].astype('str')\n",
    "data_merge['landmark'] = data_merge['landmark'].astype('str')\n",
    "def label(df):\n",
    "    if df['histdist']==\"nan\":\n",
    "        return 0\n",
    "    else:\n",
    "        return 1\n",
    "data_merge['histdist']=data_merge.apply(label,axis=1)\n",
    "def label(df):\n",
    "    if df['landmark']==\"nan\":\n",
    "        return 0\n",
    "    else:\n",
    "        return 1\n",
    "data_merge['landmark']=data_merge.apply(label,axis=1)\n",
    "#data_merge.head()"
   ]
  },
  {
   "cell_type": "code",
   "execution_count": 101,
   "metadata": {},
   "outputs": [
    {
     "data": {
      "text/plain": [
       "0    2041008\n",
       "1     253202\n",
       "Name: histdist, dtype: int64"
      ]
     },
     "execution_count": 101,
     "metadata": {},
     "output_type": "execute_result"
    }
   ],
   "source": [
    "data_merge['histdist'].value_counts()"
   ]
  },
  {
   "cell_type": "code",
   "execution_count": 102,
   "metadata": {},
   "outputs": [
    {
     "data": {
      "text/plain": [
       "0    2276642\n",
       "1      17568\n",
       "Name: landmark, dtype: int64"
      ]
     },
     "execution_count": 102,
     "metadata": {},
     "output_type": "execute_result"
    }
   ],
   "source": [
    "data_merge['landmark'].value_counts()"
   ]
  },
  {
   "cell_type": "code",
   "execution_count": 103,
   "metadata": {},
   "outputs": [],
   "source": [
    "data_merge['histdist'] = pd.Categorical(data_merge.histdist)\n",
    "data_merge['histdist'] = data_merge['histdist'].cat.rename_categories([\"Nohistdist\",\"Containshistdist\"])\n"
   ]
  },
  {
   "cell_type": "code",
   "execution_count": 104,
   "metadata": {},
   "outputs": [],
   "source": [
    "data_merge['landmark'] = pd.Categorical(data_merge.landmark)\n",
    "data_merge['landmark'] = data_merge['landmark'].cat.rename_categories([\"Nolandmark\",\"Containslandmark\"])"
   ]
  },
  {
   "cell_type": "code",
   "execution_count": 105,
   "metadata": {},
   "outputs": [
    {
     "data": {
      "text/plain": [
       "Nohistdist          2041008\n",
       "Containshistdist     253202\n",
       "Name: histdist, dtype: int64"
      ]
     },
     "execution_count": 105,
     "metadata": {},
     "output_type": "execute_result"
    }
   ],
   "source": [
    "data_merge['histdist'].value_counts()"
   ]
  },
  {
   "cell_type": "code",
   "execution_count": 106,
   "metadata": {},
   "outputs": [
    {
     "data": {
      "text/plain": [
       "Nolandmark          2276642\n",
       "Containslandmark      17568\n",
       "Name: landmark, dtype: int64"
      ]
     },
     "execution_count": 106,
     "metadata": {},
     "output_type": "execute_result"
    }
   ],
   "source": [
    "data_merge['landmark'].value_counts()"
   ]
  },
  {
   "cell_type": "code",
   "execution_count": 107,
   "metadata": {},
   "outputs": [],
   "source": [
    "def label(df):\n",
    "    if df['yearalter2']!=0:\n",
    "        return df['yearalter2']\n",
    "    elif df['yearalter1']!=0:\n",
    "        return df['yearalter1']\n",
    "    else:\n",
    "        return df['yearbuilt']\n",
    "data_merge['yearbuilt']=data_merge.apply(label,axis=1)\n",
    "data_merge = data_merge.drop('yearalter1', axis=1)\n",
    "data_merge = data_merge.drop('yearalter2', axis=1)"
   ]
  },
  {
   "cell_type": "code",
   "execution_count": 108,
   "metadata": {},
   "outputs": [
    {
     "data": {
      "text/plain": [
       "138135"
      ]
     },
     "execution_count": 108,
     "metadata": {},
     "output_type": "execute_result"
    }
   ],
   "source": [
    "data_merge.loc[(data_merge[\"yearbuilt\"]==0), \"yearbuilt\"] = np.nan\n",
    "data_merge[\"yearbuilt\"].isnull().sum()"
   ]
  },
  {
   "cell_type": "code",
   "execution_count": 109,
   "metadata": {},
   "outputs": [],
   "source": [
    "def label(df):\n",
    "    if df['yearbuilt']<1500:\n",
    "        return 1\n",
    "    elif df['yearbuilt']<1800:\n",
    "        return 2\n",
    "    elif df['yearbuilt']<1850:\n",
    "        return 3\n",
    "    elif df['yearbuilt']<1900:\n",
    "        return 4\n",
    "    elif df['yearbuilt']<1950:\n",
    "        return 5\n",
    "    elif df['yearbuilt']<2000:\n",
    "        return 6\n",
    "    elif df['yearbuilt']<2010:\n",
    "        return 7\n",
    "    elif df['yearbuilt']>=2010:\n",
    "        return 8\n",
    "    else:\n",
    "        return df['yearbuilt']\n",
    "data_merge['yearbuilt']=data_merge.apply(label,axis=1)"
   ]
  },
  {
   "cell_type": "code",
   "execution_count": 110,
   "metadata": {},
   "outputs": [],
   "source": [
    "data_merge['yearbuilt'] = pd.Categorical(data_merge.yearbuilt)\n",
    "data_merge['yearbuilt'] = data_merge['yearbuilt'].cat.rename_categories([\"yearBuilt<1500\",\\\n",
    "\"yearBuilt<1800\",\\\n",
    "\"yearBuilt<1850\",\\\n",
    "\"yearBuilt<1900\",\\\n",
    "\"yearBuilt<1950\",\\\n",
    "\"yearBuilt<2000\",\\\n",
    "\"yearBuilt<2010\",\\\n",
    "\"yearBuilt>=2010\"])"
   ]
  },
  {
   "cell_type": "code",
   "execution_count": 111,
   "metadata": {},
   "outputs": [
    {
     "data": {
      "text/plain": [
       "yearBuilt<1950     957008\n",
       "yearBuilt<2000     564179\n",
       "yearBuilt<2010     245369\n",
       "yearBuilt>=2010    227245\n",
       "yearBuilt<1900     150574\n",
       "yearBuilt<1850      11328\n",
       "yearBuilt<1800        358\n",
       "yearBuilt<1500         14\n",
       "Name: yearbuilt, dtype: int64"
      ]
     },
     "execution_count": 111,
     "metadata": {},
     "output_type": "execute_result"
    }
   ],
   "source": [
    "data_merge['yearbuilt'].value_counts()"
   ]
  },
  {
   "cell_type": "code",
   "execution_count": 112,
   "metadata": {},
   "outputs": [],
   "source": [
    "#Assest tot"
   ]
  },
  {
   "cell_type": "code",
   "execution_count": 113,
   "metadata": {},
   "outputs": [],
   "source": [
    "def label(df):\n",
    "    if df['assesstot'] == 0:\n",
    "        return 0\n",
    "    if df['assesstot']<0.5*1e7:\n",
    "        return 1\n",
    "    elif df['assesstot']<1e7:\n",
    "        return 2\n",
    "    elif df['assesstot']<1.5*1e7:\n",
    "        return 3\n",
    "    elif df['assesstot']<2*1e7:\n",
    "        return 4\n",
    "    elif df['assesstot']<4*1e7:\n",
    "        return 5\n",
    "    elif df['assesstot']<1e8:\n",
    "        return 6\n",
    "    elif df['assesstot']<0.5*1e9:\n",
    "        return 7\n",
    "    elif df['assesstot']>=0.5*1e9:\n",
    "        return 8\n",
    "    else:\n",
    "        return df['assesstot']\n",
    "data_merge['assesstot']=data_merge.apply(label,axis=1)"
   ]
  },
  {
   "cell_type": "code",
   "execution_count": 114,
   "metadata": {},
   "outputs": [
    {
     "data": {
      "text/plain": [
       "10934"
      ]
     },
     "execution_count": 114,
     "metadata": {},
     "output_type": "execute_result"
    }
   ],
   "source": [
    "data_merge.loc[(data_merge[\"assesstot\"]==0), \"assesstot\"] = np.nan\n",
    "data_merge[\"assesstot\"].isnull().sum()"
   ]
  },
  {
   "cell_type": "code",
   "execution_count": 115,
   "metadata": {},
   "outputs": [],
   "source": [
    "data_merge['assesstot'] = pd.Categorical(data_merge.assesstot)\n",
    "data_merge['assesstot'] = data_merge['assesstot'].cat.rename_categories([\"assesstot_1\",\\\n",
    "\"assesstot_2\",\\\n",
    "\"assesstot_3\",\\\n",
    "\"assesstot_4\",\\\n",
    "\"assesstot_5\",\\\n",
    "\"assesstot_6\",\\\n",
    "\"assesstot_7\",\\\n",
    "\"assesstot_8\"])\n"
   ]
  },
  {
   "cell_type": "code",
   "execution_count": 116,
   "metadata": {
    "scrolled": true
   },
   "outputs": [
    {
     "data": {
      "text/plain": [
       "assesstot_1    2144662\n",
       "assesstot_2      59961\n",
       "assesstot_3      25536\n",
       "assesstot_5      22688\n",
       "assesstot_4      13913\n",
       "assesstot_6      12765\n",
       "assesstot_7       3514\n",
       "assesstot_8        237\n",
       "Name: assesstot, dtype: int64"
      ]
     },
     "execution_count": 116,
     "metadata": {},
     "output_type": "execute_result"
    }
   ],
   "source": [
    "data_merge['assesstot'].value_counts()"
   ]
  },
  {
   "cell_type": "code",
   "execution_count": 117,
   "metadata": {
    "scrolled": true
   },
   "outputs": [
    {
     "name": "stdout",
     "output_type": "stream",
     "text": [
      "<class 'pandas.core.frame.DataFrame'>\n",
      "RangeIndex: 2294210 entries, 0 to 2294209\n",
      "Data columns (total 42 columns):\n",
      " #   Column                       Dtype   \n",
      "---  ------                       -----   \n",
      " 0   Unnamed: 0                   int64   \n",
      " 1   borough                      object  \n",
      " 2   block                        int64   \n",
      " 3   lot                          int64   \n",
      " 4   bldgclass                    object  \n",
      " 5   landuse                      category\n",
      " 6   lotarea                      category\n",
      " 7   numbldgs                     category\n",
      " 8   numfloors                    category\n",
      " 9   unitsres                     category\n",
      " 10  unitstotal                   category\n",
      " 11  lotfront                     category\n",
      " 12  proxcode                     category\n",
      " 13  lottype                      category\n",
      " 14  bsmtcode                     category\n",
      " 15  assesstot                    category\n",
      " 16  yearbuilt                    category\n",
      " 17  histdist                     category\n",
      " 18  landmark                     category\n",
      " 19  borocode                     int64   \n",
      " 20  bbl                          float64 \n",
      " 21  xcoord                       float64 \n",
      " 22  ycoord                       float64 \n",
      " 23  latitude                     float64 \n",
      " 24  longitude                    float64 \n",
      " 25  INSPECTION_TYPE              object  \n",
      " 26  JOB_TICKET_OR_WORK_ORDER_ID  int64   \n",
      " 27  JOB_ID                       object  \n",
      " 28  JOB_PROGRESS                 int64   \n",
      " 29  BBL                          float64 \n",
      " 30  HOUSE_NUMBER                 object  \n",
      " 31  STREET_NAME                  object  \n",
      " 32  ZIP_CODE                     float64 \n",
      " 33  X_COORD                      float64 \n",
      " 34  Y_COORD                      float64 \n",
      " 35  LATITUDE                     float64 \n",
      " 36  LONGITUDE                    float64 \n",
      " 37  BOROUGH                      object  \n",
      " 38  INSPECTION_DATE              object  \n",
      " 39  RESULT                       object  \n",
      " 40  APPROVED_DATE                object  \n",
      " 41  LOCATION                     object  \n",
      "dtypes: category(14), float64(11), int64(6), object(11)\n",
      "memory usage: 520.7+ MB\n"
     ]
    }
   ],
   "source": [
    "data_merge.info()"
   ]
  },
  {
   "cell_type": "code",
   "execution_count": 118,
   "metadata": {},
   "outputs": [],
   "source": [
    "\n",
    "data_merge = data_merge.drop(\"Unnamed: 0\", axis=1)"
   ]
  },
  {
   "cell_type": "code",
   "execution_count": 119,
   "metadata": {},
   "outputs": [
    {
     "name": "stdout",
     "output_type": "stream",
     "text": [
      "<class 'pandas.core.frame.DataFrame'>\n",
      "RangeIndex: 2294210 entries, 0 to 2294209\n",
      "Data columns (total 41 columns):\n",
      " #   Column                       Dtype   \n",
      "---  ------                       -----   \n",
      " 0   borough                      object  \n",
      " 1   block                        int64   \n",
      " 2   lot                          int64   \n",
      " 3   bldgclass                    object  \n",
      " 4   landuse                      category\n",
      " 5   lotarea                      category\n",
      " 6   numbldgs                     category\n",
      " 7   numfloors                    category\n",
      " 8   unitsres                     category\n",
      " 9   unitstotal                   category\n",
      " 10  lotfront                     category\n",
      " 11  proxcode                     category\n",
      " 12  lottype                      category\n",
      " 13  bsmtcode                     category\n",
      " 14  assesstot                    category\n",
      " 15  yearbuilt                    category\n",
      " 16  histdist                     category\n",
      " 17  landmark                     category\n",
      " 18  borocode                     int64   \n",
      " 19  bbl                          float64 \n",
      " 20  xcoord                       float64 \n",
      " 21  ycoord                       float64 \n",
      " 22  latitude                     float64 \n",
      " 23  longitude                    float64 \n",
      " 24  INSPECTION_TYPE              object  \n",
      " 25  JOB_TICKET_OR_WORK_ORDER_ID  int64   \n",
      " 26  JOB_ID                       object  \n",
      " 27  JOB_PROGRESS                 int64   \n",
      " 28  BBL                          float64 \n",
      " 29  HOUSE_NUMBER                 object  \n",
      " 30  STREET_NAME                  object  \n",
      " 31  ZIP_CODE                     float64 \n",
      " 32  X_COORD                      float64 \n",
      " 33  Y_COORD                      float64 \n",
      " 34  LATITUDE                     float64 \n",
      " 35  LONGITUDE                    float64 \n",
      " 36  BOROUGH                      object  \n",
      " 37  INSPECTION_DATE              object  \n",
      " 38  RESULT                       object  \n",
      " 39  APPROVED_DATE                object  \n",
      " 40  LOCATION                     object  \n",
      "dtypes: category(14), float64(11), int64(5), object(11)\n",
      "memory usage: 503.2+ MB\n"
     ]
    }
   ],
   "source": [
    "data_merge.info()"
   ]
  },
  {
   "cell_type": "code",
   "execution_count": 120,
   "metadata": {},
   "outputs": [],
   "source": [
    "data_merge.to_csv(\"./pluto_rodent_cat.csv\")"
   ]
  },
  {
   "cell_type": "code",
   "execution_count": null,
   "metadata": {},
   "outputs": [],
   "source": []
  }
 ],
 "metadata": {
  "kernelspec": {
   "display_name": "Python 3",
   "language": "python",
   "name": "python3"
  },
  "language_info": {
   "codemirror_mode": {
    "name": "ipython",
    "version": 3
   },
   "file_extension": ".py",
   "mimetype": "text/x-python",
   "name": "python",
   "nbconvert_exporter": "python",
   "pygments_lexer": "ipython3",
   "version": "3.7.0"
  }
 },
 "nbformat": 4,
 "nbformat_minor": 4
}
