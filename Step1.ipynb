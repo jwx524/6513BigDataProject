{
 "cells": [
  {
   "cell_type": "code",
   "execution_count": 1,
   "id": "4c45f8d3",
   "metadata": {},
   "outputs": [
    {
     "name": "stderr",
     "output_type": "stream",
     "text": [
      "Setting default log level to \"WARN\".\n",
      "To adjust logging level use sc.setLogLevel(newLevel). For SparkR, use setLogLevel(newLevel).\n",
      "23/04/19 04:33:43 INFO org.apache.spark.SparkEnv: Registering MapOutputTracker\n",
      "23/04/19 04:33:44 INFO org.apache.spark.SparkEnv: Registering BlockManagerMaster\n",
      "23/04/19 04:33:44 INFO org.apache.spark.SparkEnv: Registering BlockManagerMasterHeartbeat\n",
      "23/04/19 04:33:44 INFO org.apache.spark.SparkEnv: Registering OutputCommitCoordinator\n"
     ]
    }
   ],
   "source": [
    "from pyspark import SparkContext, SparkConf\n",
    "cf = SparkConf()\n",
    "cf.set(\"spark.submit.deployMode\",\"client\")\n",
    "sc = SparkContext.getOrCreate(cf)\n",
    "from pyspark.sql import SparkSession\n",
    "spark = SparkSession \\\n",
    "\t    .builder \\\n",
    "\t    .appName(\"Python Spark SQL basic example\") \\\n",
    "\t    .config(\"spark.some.config.option\", \"some-value\") \\\n",
    "\t    .getOrCreate()"
   ]
  },
  {
   "cell_type": "code",
   "execution_count": 2,
   "id": "b8993333",
   "metadata": {
    "scrolled": true
   },
   "outputs": [
    {
     "name": "stderr",
     "output_type": "stream",
     "text": [
      "                                                                                \r"
     ]
    }
   ],
   "source": [
    "initial_df = spark.read.csv(path='Rodent_Inspection.csv',header=True)"
   ]
  },
  {
   "cell_type": "code",
   "execution_count": 3,
   "id": "75fbefdc",
   "metadata": {
    "scrolled": true
   },
   "outputs": [
    {
     "name": "stderr",
     "output_type": "stream",
     "text": [
      "                                                                                \r"
     ]
    },
    {
     "data": {
      "text/plain": [
       "2354285"
      ]
     },
     "execution_count": 3,
     "metadata": {},
     "output_type": "execute_result"
    }
   ],
   "source": [
    "initial_df.count()"
   ]
  },
  {
   "cell_type": "code",
   "execution_count": 13,
   "id": "99b184ba",
   "metadata": {
    "scrolled": false
   },
   "outputs": [
    {
     "name": "stdout",
     "output_type": "stream",
     "text": [
      "INSPECTION_TYPE, string\n",
      "JOB_TICKET_OR_WORK_ORDER_ID, string\n",
      "JOB_ID, string\n",
      "JOB_PROGRESS, string\n",
      "BBL, string\n",
      "BORO_CODE, string\n",
      "BLOCK, string\n",
      "LOT, string\n",
      "HOUSE_NUMBER, string\n",
      "STREET_NAME, string\n",
      "ZIP_CODE, string\n",
      "X_COORD, string\n",
      "Y_COORD, string\n",
      "LATITUDE, string\n",
      "LONGITUDE, string\n",
      "BOROUGH, string\n",
      "INSPECTION_DATE, string\n",
      "RESULT, string\n",
      "APPROVED_DATE, string\n",
      "LOCATION, string\n",
      "INSP_DATE, timestamp\n",
      "APP_DATE, timestamp\n"
     ]
    }
   ],
   "source": [
    "#Get All attribute names and it's types\n",
    "for attr in initial_df.dtypes:\n",
    "    print(attr[0] + \", \" + attr[1])"
   ]
  },
  {
   "cell_type": "code",
   "execution_count": 14,
   "id": "1075db8c",
   "metadata": {
    "scrolled": true
   },
   "outputs": [
    {
     "name": "stdout",
     "output_type": "stream",
     "text": [
      "+---------------+---------------------------+---------+------------+----------+---------+-----+----+------------+-------------+--------+-------+-------+--------+---------+-------------+----------------------+------------------+----------------------+----------+-------------------+-------------------+\n",
      "|INSPECTION_TYPE|JOB_TICKET_OR_WORK_ORDER_ID|JOB_ID   |JOB_PROGRESS|BBL       |BORO_CODE|BLOCK|LOT |HOUSE_NUMBER|STREET_NAME  |ZIP_CODE|X_COORD|Y_COORD|LATITUDE|LONGITUDE|BOROUGH      |INSPECTION_DATE       |RESULT            |APPROVED_DATE         |LOCATION  |INSP_DATE          |APP_DATE           |\n",
      "+---------------+---------------------------+---------+------------+----------+---------+-----+----+------------+-------------+--------+-------+-------+--------+---------+-------------+----------------------+------------------+----------------------+----------+-------------------+-------------------+\n",
      "|Initial        |13407377                   |PC7882384|1           |3019260010|3        |01926|0010|null        |null         |11205   |null   |null   |null    |null     |Brooklyn     |06/09/2022 01:54:54 PM|Passed            |06/13/2022 11:08:40 AM|null      |2022-06-09 13:54:54|2022-06-13 11:08:40|\n",
      "|Initial        |13579860                   |PC8047096|1           |1004530034|1        |00453|0034|null        |null         |10003   |null   |null   |null    |null     |Manhattan    |02/13/2023 01:40:15 PM|Rat Activity      |02/14/2023 01:55:23 PM|null      |2023-02-13 13:40:15|2023-02-14 13:55:23|\n",
      "|BAIT           |2799143                    |PC7647263|4           |4036190001|4        |03619|0001|null        |null         |11385   |null   |null   |null    |null     |Queens       |03/05/2021 10:40:58 AM|Bait applied      |03/08/2021 10:47:56 AM|null      |2021-03-05 10:40:58|2021-03-08 10:47:56|\n",
      "|Initial        |11631378                   |PC6155644|1           |1003760001|1        |00376|0001|null        |AVENUE C     |10009   |990053 |202877 |null    |null     |Manhattan    |04/01/2010 04:11:45 PM|Failed for Other R|04/02/2010 09:08:37 AM|null      |2010-04-01 16:11:45|2010-04-02 09:08:37|\n",
      "|Initial        |13511002                   |PC7978977|1           |2032370012|2        |03237|0012|BAILEY      |AVENUE       |0       |null   |null   |null    |null     |Bronx        |10/28/2022 03:00:57 PM|Passed            |10/31/2022 11:06:49 AM|null      |2022-10-28 15:00:57|2022-10-31 11:06:49|\n",
      "|Initial        |11362643                   |PC7466087|1           |5002210035|5        |221  |35  |000         |Roe Street   |null    |950510 |169320 |0       |0        |Staten Island|06/02/2016 03:08:18 PM|Passed            |06/07/2016 02:35:38 PM|(0.0, 0.0)|2016-06-02 15:08:18|2016-06-07 14:35:38|\n",
      "|Compliance     |13530548                   |PC7978201|2           |3070090096|3        |07009|0096|null        |null         |11224   |null   |null   |null    |null     |Brooklyn     |11/28/2022 03:55:34 PM|Passed            |11/30/2022 02:54:10 PM|null      |2022-11-28 15:55:34|2022-11-30 14:54:10|\n",
      "|Initial        |13268310                   |PC7748862|1           |3017670066|3        |01767|0066|null        |null         |11206   |null   |null   |null    |null     |Brooklyn     |08/03/2021 01:51:00 PM|Failed for Other R|08/11/2021 01:04:43 PM|null      |2021-08-03 13:51:00|2021-08-11 13:04:43|\n",
      "|Initial        |13343760                   |PC7819730|1           |1019530123|1        |01953|0123|WEST        |126 STREET   |10027   |null   |null   |null    |null     |Manhattan    |03/10/2022 09:19:00 AM|Passed            |03/16/2022 10:05:10 AM|null      |2022-03-10 09:19:00|2022-03-16 10:05:10|\n",
      "|Initial        |13126767                   |PC7562340|1           |1018790041|1        |01879|0041|null        |null         |10025   |null   |null   |null    |null     |Manhattan    |01/27/2020 12:50:35 PM|Rat Activity      |01/28/2020 10:52:30 AM|null      |2020-01-27 12:50:35|2020-01-28 10:52:30|\n",
      "|Initial        |13589754                   |PC8055633|1           |2045380029|2        |04538|0029|TIEMANN     |AVENUE       |10469   |null   |null   |null    |null     |Bronx        |02/28/2023 12:22:37 PM|Passed            |03/01/2023 09:18:02 AM|null      |2023-02-28 12:22:37|2023-03-01 09:18:02|\n",
      "|Compliance     |13260530                   |PC7669435|2           |3032780020|3        |03278|0020|null        |null         |11237   |null   |null   |null    |null     |Brooklyn     |07/22/2021 01:43:11 PM|Rat Activity      |08/02/2021 12:29:04 PM|null      |2021-07-22 13:43:11|2021-08-02 12:29:04|\n",
      "|Initial        |13571790                   |PC8040840|1           |3012180020|3        |01218|0020|null        |null         |11216   |null   |null   |null    |null     |Brooklyn     |01/31/2023 12:49:14 PM|Passed            |02/02/2023 02:22:11 PM|null      |2023-01-31 12:49:14|2023-02-02 14:22:11|\n",
      "|Initial        |11476861                   |PC7422190|1           |4020760063|4        |2076 |63  |000         |93 Street    |null    |1020734|206261 |0       |0        |Queens       |10/29/2019 02:15:25 PM|Rat Activity      |11/04/2019 12:37:09 PM|(0.0, 0.0)|2019-10-29 14:15:25|2019-11-04 12:37:09|\n",
      "|Compliance     |13415117                   |PC7876911|2           |2030460037|2        |03046|0037|BATHGATE    |AVENUE       |10457   |null   |null   |null    |null     |Bronx        |06/22/2022 12:13:03 PM|Passed            |06/28/2022 10:45:43 AM|null      |2022-06-22 12:13:03|2022-06-28 10:45:43|\n",
      "|Initial        |13216202                   |PC7688602|1           |3016050034|3        |01605|0034|null        |null         |11221   |null   |null   |null    |null     |Brooklyn     |04/08/2021 12:43:00 PM|Passed            |04/08/2021 10:09:28 PM|null      |2021-04-08 12:43:00|2021-04-08 22:09:28|\n",
      "|BAIT           |2799802                    |PC7672318|3           |1003870122|1        |00387|0122|000         |East 6 STREET|null    |null   |null   |0       |0        |Manhattan    |03/20/2021 02:00:44 PM|Bait applied      |null                  |(0.0, 0.0)|2021-03-20 14:00:44|null               |\n",
      "|Initial        |13498859                   |PC7965807|1           |2032730800|2        |03273|0800|EAST        |FORDHAM ROAD |10458   |null   |null   |null    |null     |Bronx        |10/14/2022 11:53:12 AM|Rat Activity      |10/17/2022 03:24:55 PM|null      |2022-10-14 11:53:12|2022-10-17 15:24:55|\n",
      "|Initial        |13368752                   |PC7846341|1           |1003560090|1        |00356|0090|000         |AVENUE D     |null    |null   |null   |0       |0        |Manhattan    |04/18/2022 01:27:52 PM|Passed            |04/20/2022 03:49:17 PM|(0.0, 0.0)|2022-04-18 13:27:52|2022-04-20 15:49:17|\n",
      "|Initial        |13190134                   |PC7606142|1           |4019650015|4        |01965|0015|null        |null         |null    |1025572|208335 |null    |null     |Queens       |10/28/2020 12:05:37 PM|Passed            |11/12/2020 11:17:14 AM|null      |2020-10-28 12:05:37|2020-11-12 11:17:14|\n",
      "+---------------+---------------------------+---------+------------+----------+---------+-----+----+------------+-------------+--------+-------+-------+--------+---------+-------------+----------------------+------------------+----------------------+----------+-------------------+-------------------+\n",
      "only showing top 20 rows\n",
      "\n"
     ]
    }
   ],
   "source": [
    "#cast column indicating date with string type to timestamp\n",
    "import pyspark.sql.functions as F\n",
    "initial_df=initial_df.withColumn('INSP_DATE', F.to_timestamp(F.col(\"INSPECTION_DATE\"), \"MM/dd/yyyy hh:mm:ss a\")) \\\n",
    "                     .withColumn('APP_DATE', F.to_timestamp(F.col(\"APPROVED_DATE\"), \"MM/dd/yyyy hh:mm:ss a\"))\n",
    "initial_df.show(truncate=False)"
   ]
  },
  {
   "cell_type": "code",
   "execution_count": 15,
   "id": "ea741a01",
   "metadata": {
    "scrolled": true
   },
   "outputs": [
    {
     "name": "stdout",
     "output_type": "stream",
     "text": [
      "+--------------------+--------------------+\n",
      "|min(INSPECTION_DATE)|max(INSPECTION_DATE)|\n",
      "+--------------------+--------------------+\n",
      "|01/01/2001 03:15:...|12/31/2022 12:50:...|\n",
      "+--------------------+--------------------+\n",
      "\n"
     ]
    }
   ],
   "source": [
    "initial_df.createOrReplaceTempView(\"rodent_inspection\")\n",
    "spark.sql(\"SELECT min(INSPECTION_DATE), max(INSPECTION_DATE) FROM rodent_inspection\").show()"
   ]
  },
  {
   "cell_type": "code",
   "execution_count": 16,
   "id": "9296f835",
   "metadata": {
    "scrolled": true
   },
   "outputs": [
    {
     "name": "stderr",
     "output_type": "stream",
     "text": [
      "[Stage 30:>                                                       (0 + 16) / 16]\r"
     ]
    },
    {
     "name": "stdout",
     "output_type": "stream",
     "text": [
      "+-------------------+-------------------+\n",
      "|     min(INSP_DATE)|     max(INSP_DATE)|\n",
      "+-------------------+-------------------+\n",
      "|1918-10-19 14:34:44|2029-01-01 09:35:51|\n",
      "+-------------------+-------------------+\n",
      "\n"
     ]
    },
    {
     "name": "stderr",
     "output_type": "stream",
     "text": [
      "                                                                                \r"
     ]
    }
   ],
   "source": [
    "#check strange date\n",
    "spark.sql(\"SELECT min(INSP_DATE), max(INSP_DATE) FROM rodent_inspection\").show()"
   ]
  },
  {
   "cell_type": "code",
   "execution_count": 17,
   "id": "34eec84a",
   "metadata": {
    "scrolled": true
   },
   "outputs": [
    {
     "name": "stderr",
     "output_type": "stream",
     "text": [
      "                                                                                \r"
     ]
    },
    {
     "name": "stdout",
     "output_type": "stream",
     "text": [
      "+-------------------+--------------------+-------------------+--------------------+\n",
      "|          INSP_DATE|     INSPECTION_DATE|           APP_DATE|       APPROVED_DATE|\n",
      "+-------------------+--------------------+-------------------+--------------------+\n",
      "|1935-02-22 10:19:31|02/22/1935 10:19:...|2017-02-28 08:52:04|02/28/2017 08:52:...|\n",
      "|1956-09-12 10:56:28|09/12/1956 10:56:...|2019-09-16 16:23:22|09/16/2019 04:23:...|\n",
      "|2000-10-10 09:45:35|10/10/2000 09:45:...|2017-10-17 10:42:19|10/17/2017 10:42:...|\n",
      "|1950-02-13 10:50:01|02/13/1950 10:50:...|2018-02-20 16:15:58|02/20/2018 04:15:...|\n",
      "|1918-10-19 14:34:44|10/19/1918 02:34:...|2018-10-26 08:59:20|10/26/2018 08:59:...|\n",
      "|2000-12-31 11:50:57|12/31/2000 11:50:...|2018-07-20 09:09:30|07/20/2018 09:09:...|\n",
      "|1958-03-08 12:58:04|03/08/1958 12:58:...|2019-03-13 13:31:28|03/13/2019 01:31:...|\n",
      "|1930-04-14 12:57:46|04/14/1930 12:57:...|2014-04-15 09:27:03|04/15/2014 09:27:...|\n",
      "|1971-05-03 08:18:12|05/03/1971 08:18:...|2013-05-08 17:04:32|05/08/2013 05:04:...|\n",
      "|1935-04-24 14:35:49|04/24/1935 02:35:...|2019-05-08 09:51:15|05/08/2019 09:51:...|\n",
      "|1945-06-14 08:13:52|06/14/1945 08:13:...|2017-06-20 14:46:08|06/20/2017 02:46:...|\n",
      "|1950-11-30 09:50:55|11/30/1950 09:50:...|2016-12-06 15:58:50|12/06/2016 03:58:...|\n",
      "|1930-01-30 08:24:15|01/30/1930 08:24:...|2010-02-01 12:33:37|02/01/2010 12:33:...|\n",
      "+-------------------+--------------------+-------------------+--------------------+\n",
      "\n"
     ]
    },
    {
     "name": "stderr",
     "output_type": "stream",
     "text": [
      "                                                                                \r"
     ]
    }
   ],
   "source": [
    "spark.sql(\"SELECT INSP_DATE, INSPECTION_DATE, APP_DATE, APPROVED_DATE FROM rodent_inspection where year(INSP_DATE) < 2001\").show()"
   ]
  },
  {
   "cell_type": "code",
   "execution_count": 18,
   "id": "b85f0c17",
   "metadata": {},
   "outputs": [
    {
     "name": "stderr",
     "output_type": "stream",
     "text": [
      "                                                                                \r"
     ]
    },
    {
     "name": "stdout",
     "output_type": "stream",
     "text": [
      "+---------------------------+-------------------+--------------------+-------------------+--------------------+\n",
      "|JOB_TICKET_OR_WORK_ORDER_ID|          INSP_DATE|     INSPECTION_DATE|           APP_DATE|       APPROVED_DATE|\n",
      "+---------------------------+-------------------+--------------------+-------------------+--------------------+\n",
      "|                    2562758|2025-03-26 14:25:19|03/26/2025 02:25:...|2016-03-31 12:15:55|03/31/2016 12:15:...|\n",
      "|                    2569167|2024-05-24 01:12:50|05/24/2024 01:12:...|2016-05-26 08:44:50|05/26/2016 08:44:...|\n",
      "|                    2555783|2029-01-01 09:35:51|01/01/2029 09:35:...|2016-02-01 11:11:16|02/01/2016 11:11:...|\n",
      "+---------------------------+-------------------+--------------------+-------------------+--------------------+\n",
      "\n"
     ]
    },
    {
     "name": "stderr",
     "output_type": "stream",
     "text": [
      "                                                                                \r"
     ]
    }
   ],
   "source": [
    "spark.sql(\"SELECT JOB_TICKET_OR_WORK_ORDER_ID,INSP_DATE, INSPECTION_DATE, APP_DATE, APPROVED_DATE FROM rodent_inspection where year(INSP_DATE) >2023\").show()"
   ]
  },
  {
   "cell_type": "code",
   "execution_count": 19,
   "id": "1b918dd5",
   "metadata": {},
   "outputs": [
    {
     "name": "stdout",
     "output_type": "stream",
     "text": [
      "+--------+\n",
      "|count(1)|\n",
      "+--------+\n",
      "| 2340191|\n",
      "+--------+\n",
      "\n"
     ]
    }
   ],
   "source": [
    "\n",
    "spark.sql(\"SELECT count(*)  FROM rodent_inspection where LOCATION is not null \").show()"
   ]
  },
  {
   "cell_type": "code",
   "execution_count": 20,
   "id": "2dcf01d3",
   "metadata": {},
   "outputs": [
    {
     "name": "stdout",
     "output_type": "stream",
     "text": [
      "+--------+\n",
      "|count(1)|\n",
      "+--------+\n",
      "| 2341308|\n",
      "+--------+\n",
      "\n"
     ]
    }
   ],
   "source": [
    "spark.sql(\"SELECT count(*)  FROM rodent_inspection where LATITUDE is not null\").show()"
   ]
  },
  {
   "cell_type": "code",
   "execution_count": 21,
   "id": "805da9e0",
   "metadata": {
    "scrolled": true
   },
   "outputs": [
    {
     "name": "stdout",
     "output_type": "stream",
     "text": [
      "+--------+\n",
      "|count(1)|\n",
      "+--------+\n",
      "| 2341308|\n",
      "+--------+\n",
      "\n"
     ]
    }
   ],
   "source": [
    "spark.sql(\"SELECT count(*)  FROM rodent_inspection where LONGITUDE is not null\").show()"
   ]
  },
  {
   "cell_type": "code",
   "execution_count": 25,
   "id": "6de3fbdc",
   "metadata": {},
   "outputs": [
    {
     "name": "stderr",
     "output_type": "stream",
     "text": [
      "[Stage 58:=============================================>          (13 + 3) / 16]\r"
     ]
    },
    {
     "name": "stdout",
     "output_type": "stream",
     "text": [
      "+--------+-----------------------------+\n",
      "|count(1)|year(CAST(INSP_DATE AS DATE))|\n",
      "+--------+-----------------------------+\n",
      "|      14|                         2001|\n",
      "|       5|                         2002|\n",
      "|       5|                         2003|\n",
      "|       1|                         2007|\n",
      "|       5|                         2008|\n",
      "|   19496|                         2009|\n",
      "|  152056|                         2010|\n",
      "|  157472|                         2011|\n",
      "|  172964|                         2012|\n",
      "|  132444|                         2013|\n",
      "|  134785|                         2014|\n",
      "|  135819|                         2015|\n",
      "|  181306|                         2016|\n",
      "|  249012|                         2017|\n",
      "|  254821|                         2018|\n",
      "|  248287|                         2019|\n",
      "|   72605|                         2020|\n",
      "|  107583|                         2021|\n",
      "|  244588|                         2022|\n",
      "|   78007|                         2023|\n",
      "+--------+-----------------------------+\n",
      "\n"
     ]
    },
    {
     "name": "stderr",
     "output_type": "stream",
     "text": [
      "                                                                                \r"
     ]
    }
   ],
   "source": [
    "spark.sql(\"SELECT count(*), year(INSP_DATE)   FROM rodent_inspection where LONGITUDE is not null and LONGITUDE is not null and year(INSP_DATE) between 2001 and 2023 group by year(INSP_DATE) order by year(INSP_DATE)\").show()"
   ]
  }
 ],
 "metadata": {
  "kernelspec": {
   "display_name": "Python 3 (ipykernel)",
   "language": "python",
   "name": "python3"
  },
  "language_info": {
   "codemirror_mode": {
    "name": "ipython",
    "version": 3
   },
   "file_extension": ".py",
   "mimetype": "text/x-python",
   "name": "python",
   "nbconvert_exporter": "python",
   "pygments_lexer": "ipython3",
   "version": "3.8.13"
  }
 },
 "nbformat": 4,
 "nbformat_minor": 5
}
