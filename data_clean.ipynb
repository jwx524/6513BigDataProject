{
 "cells": [
  {
   "cell_type": "code",
   "execution_count": 1,
   "id": "visible-thomson",
   "metadata": {},
   "outputs": [],
   "source": [
    "import pandas as pd\n",
    "import numpy as np\n",
    "from matplotlib import pyplot as plt"
   ]
  },
  {
   "cell_type": "code",
   "execution_count": 2,
   "id": "weighted-opening",
   "metadata": {},
   "outputs": [],
   "source": [
    "pd.set_option('display.max_columns', None)"
   ]
  },
  {
   "cell_type": "code",
   "execution_count": 3,
   "id": "confirmed-density",
   "metadata": {},
   "outputs": [
    {
     "name": "stderr",
     "output_type": "stream",
     "text": [
      "/var/folders/6r/skmhybnj3t93yvs97cn0mrrc0000gn/T/ipykernel_83782/3540119670.py:1: DtypeWarning: Columns (21,22,24,26,66) have mixed types. Specify dtype option on import or set low_memory=False.\n",
      "  data_pluto = pd.read_csv(\"./pluto_23v1.csv\")\n"
     ]
    },
    {
     "name": "stdout",
     "output_type": "stream",
     "text": [
      "(859068, 49) (2354285, 20)\n"
     ]
    }
   ],
   "source": [
    "data_pluto = pd.read_csv(\"./pluto_23v1.csv\")\n",
    "data_rodent = pd.read_csv(\"./Rodent_Inspection.csv\")\n",
    "\n",
    "pluto_cols_needed = [\n",
    "                    \"borough\",\n",
    "                    \"block\",\n",
    "                    \"lot\",\n",
    "                    \"cd\",\n",
    "                    \"overlay1\",\n",
    "                    \"spdist1\",\n",
    "                    \"ltdheight\",\n",
    "                    \"splitzone\",\n",
    "                    \"bldgclass\",\n",
    "                    \"landuse\",\n",
    "                    \"ownertype\",\n",
    "                    \"lotarea\",\n",
    "                    \"bldgarea\",\n",
    "                    \"comarea\",\n",
    "                    \"resarea\",\n",
    "                    \"officearea\",\n",
    "                    \"retailarea\",\n",
    "                    \"garagearea\",\n",
    "                    \"strgearea\",\n",
    "                    \"factryarea\",\n",
    "                    \"numbldgs\",\n",
    "                    \"numfloors\",\n",
    "                    \"unitsres\",\n",
    "                    \"unitstotal\",\n",
    "                    \"lotfront\",\n",
    "                    \"lotdepth\",\n",
    "                    \"ext\",\n",
    "                    \"proxcode\",\n",
    "                    \"irrlotcode\",\n",
    "                    \"lottype\",\n",
    "                    \"bsmtcode\",\n",
    "                    \"assessland\",\n",
    "                    \"assesstot\",\n",
    "                    \"exempttot\",\n",
    "                    \"yearbuilt\",\n",
    "                    \"yearalter1\",\n",
    "                    \"yearalter2\",\n",
    "                    \"histdist\",\n",
    "                    \"landmark\",\n",
    "                    \"builtfar\",\n",
    "                    \"residfar\",\n",
    "                    \"commfar\",\n",
    "                    \"facilfar\",\n",
    "                    \"borocode\",\n",
    "                    \"bbl\",\n",
    "                    \"xcoord\",\n",
    "                    \"ycoord\",\n",
    "                    \"latitude\",\n",
    "                    \"longitude\"\n",
    "                    ]\n",
    "data_pluto = data_pluto[pluto_cols_needed]\n",
    "print(data_pluto.shape, data_rodent.shape)"
   ]
  },
  {
   "cell_type": "code",
   "execution_count": 4,
   "id": "liquid-driver",
   "metadata": {},
   "outputs": [],
   "source": [
    "# rodent = data_rodent[(data_rodent[\"BBL\"] < 6e9) & (data_rodent[\"BBL\"]>=1e9)]\n",
    "# pluto = data_pluto[(data_pluto[\"bbl\"] < 6e9) & (data_pluto[\"bbl\"]>=1e9)]"
   ]
  },
  {
   "cell_type": "code",
   "execution_count": 5,
   "id": "cutting-delay",
   "metadata": {},
   "outputs": [
    {
     "name": "stdout",
     "output_type": "stream",
     "text": [
      "pluto len: 859068, rodent len:2354285\n"
     ]
    }
   ],
   "source": [
    "rodent = data_rodent.copy()\n",
    "pluto = data_pluto.copy()\n",
    "print(\"pluto len: {}, rodent len:{}\".format(len(pluto), len(rodent)))"
   ]
  },
  {
   "cell_type": "code",
   "execution_count": 6,
   "id": "assumed-ground",
   "metadata": {},
   "outputs": [
    {
     "data": {
      "text/plain": [
       "1    748192\n",
       "2    690597\n",
       "3    649584\n",
       "4    205565\n",
       "5     60084\n",
       "9       263\n",
       "Name: BORO_CODE, dtype: int64"
      ]
     },
     "execution_count": 6,
     "metadata": {},
     "output_type": "execute_result"
    }
   ],
   "source": [
    "rodent[\"BORO_CODE\"].value_counts()"
   ]
  },
  {
   "cell_type": "code",
   "execution_count": 7,
   "id": "valid-winning",
   "metadata": {},
   "outputs": [
    {
     "data": {
      "text/plain": [
       "4    324675\n",
       "3    276869\n",
       "5    125220\n",
       "2     89617\n",
       "1     42687\n",
       "Name: borocode, dtype: int64"
      ]
     },
     "execution_count": 7,
     "metadata": {},
     "output_type": "execute_result"
    }
   ],
   "source": [
    "pluto[\"borocode\"].value_counts()"
   ]
  },
  {
   "cell_type": "code",
   "execution_count": 8,
   "id": "offensive-youth",
   "metadata": {},
   "outputs": [
    {
     "data": {
      "text/plain": [
       "0"
      ]
     },
     "execution_count": 8,
     "metadata": {},
     "output_type": "execute_result"
    }
   ],
   "source": [
    "pluto[\"bbl\"].isnull().sum()"
   ]
  },
  {
   "cell_type": "code",
   "execution_count": 9,
   "id": "intermediate-rocket",
   "metadata": {},
   "outputs": [
    {
     "data": {
      "text/plain": [
       "1"
      ]
     },
     "execution_count": 9,
     "metadata": {},
     "output_type": "execute_result"
    }
   ],
   "source": [
    "rodent[\"BBL\"].isnull().sum()"
   ]
  },
  {
   "cell_type": "code",
   "execution_count": 10,
   "id": "mental-switzerland",
   "metadata": {},
   "outputs": [
    {
     "data": {
      "text/plain": [
       "(859068, 859068)"
      ]
     },
     "execution_count": 10,
     "metadata": {},
     "output_type": "execute_result"
    }
   ],
   "source": [
    "len(pluto), pluto[\"bbl\"].nunique()"
   ]
  },
  {
   "cell_type": "code",
   "execution_count": 11,
   "id": "beginning-friend",
   "metadata": {},
   "outputs": [
    {
     "data": {
      "text/plain": [
       "(2354285, 322467)"
      ]
     },
     "execution_count": 11,
     "metadata": {},
     "output_type": "execute_result"
    }
   ],
   "source": [
    "len(rodent), rodent[\"BBL\"].nunique()"
   ]
  },
  {
   "cell_type": "code",
   "execution_count": 12,
   "id": "assigned-application",
   "metadata": {},
   "outputs": [
    {
     "data": {
      "text/plain": [
       "7.311862189542079"
      ]
     },
     "execution_count": 12,
     "metadata": {},
     "output_type": "execute_result"
    }
   ],
   "source": [
    "2358719 / 322588"
   ]
  },
  {
   "cell_type": "code",
   "execution_count": 13,
   "id": "australian-sector",
   "metadata": {},
   "outputs": [
    {
     "data": {
      "text/plain": [
       "859068"
      ]
     },
     "execution_count": 13,
     "metadata": {},
     "output_type": "execute_result"
    }
   ],
   "source": [
    "len(pluto.drop_duplicates())"
   ]
  },
  {
   "cell_type": "code",
   "execution_count": 14,
   "id": "handed-provider",
   "metadata": {},
   "outputs": [
    {
     "data": {
      "text/plain": [
       "2354285"
      ]
     },
     "execution_count": 14,
     "metadata": {},
     "output_type": "execute_result"
    }
   ],
   "source": [
    "len(rodent.drop_duplicates())"
   ]
  },
  {
   "cell_type": "code",
   "execution_count": 15,
   "id": "foster-distribution",
   "metadata": {},
   "outputs": [
    {
     "data": {
      "text/plain": [
       "313768"
      ]
     },
     "execution_count": 15,
     "metadata": {},
     "output_type": "execute_result"
    }
   ],
   "source": [
    "len(set(rodent[\"BBL\"]) & set(pluto[\"bbl\"]))"
   ]
  },
  {
   "cell_type": "code",
   "execution_count": 16,
   "id": "sought-theory",
   "metadata": {},
   "outputs": [],
   "source": [
    "rodent = rodent[~rodent[\"BBL\"].isnull()]\n",
    "rodent.loc[(rodent[\"BORO_CODE\"]==9), \"BORO_CODE\"] = np.nan\n",
    "rodent = rodent[rodent[\"BLOCK\"].astype(str).str.len()<=5]\n",
    "\n"
   ]
  },
  {
   "cell_type": "code",
   "execution_count": 17,
   "id": "given-natural",
   "metadata": {},
   "outputs": [
    {
     "data": {
      "text/plain": [
       "Timestamp('2018-07-07 16:00:00')"
      ]
     },
     "execution_count": 17,
     "metadata": {},
     "output_type": "execute_result"
    }
   ],
   "source": [
    "pd.to_datetime(\"2018 - 07 - 07 04 - PM\", format='%Y - %m - %d %I - %p')"
   ]
  },
  {
   "cell_type": "code",
   "execution_count": 18,
   "id": "social-channels",
   "metadata": {},
   "outputs": [],
   "source": [
    "rodent[\"INSPECTION_DATE\"] = pd.to_datetime(rodent[\"INSPECTION_DATE\"], format=\"%m/%d/%Y %I:%M:%S %p\")\n",
    "rodent[\"APPROVED_DATE\"] = pd.to_datetime(rodent[\"APPROVED_DATE\"], format=\"%m/%d/%Y %I:%M:%S %p\")"
   ]
  },
  {
   "cell_type": "code",
   "execution_count": 19,
   "id": "copyrighted-palace",
   "metadata": {},
   "outputs": [],
   "source": [
    "idx_wrong_dt = rodent[rodent[\"INSPECTION_DATE\"] >  rodent[\"APPROVED_DATE\"]].index\n",
    "rodent.loc[idx_wrong_dt, \"APPROVED_DATE\"] = pd.NaT"
   ]
  },
  {
   "cell_type": "code",
   "execution_count": 20,
   "id": "increasing-interval",
   "metadata": {},
   "outputs": [],
   "source": [
    "date_processing = \"2023-04-23\"\n",
    "idx_wrong_dt2 = rodent[rodent[\"INSPECTION_DATE\"] >= date_processing].index\n",
    "\n",
    "rodent.loc[idx_wrong_dt2, \"INSPECTION_DATE\"] = pd.NaT\n",
    "rodent.loc[idx_wrong_dt2, \"APPROVED_DATE\"] = pd.NaT"
   ]
  },
  {
   "cell_type": "code",
   "execution_count": 21,
   "id": "collectible-prototype",
   "metadata": {},
   "outputs": [],
   "source": [
    "merged = pd.merge(pluto, rodent, left_on=\"bbl\", right_on=\"BBL\", how=\"inner\")"
   ]
  },
  {
   "cell_type": "code",
   "execution_count": 151,
   "id": "artistic-minister",
   "metadata": {},
   "outputs": [],
   "source": [
    "#merged.to_csv(\"./pluto_rodent_merged.csv\")"
   ]
  },
  {
   "cell_type": "code",
   "execution_count": 154,
   "id": "alpha-emission",
   "metadata": {},
   "outputs": [
    {
     "data": {
      "text/html": [
       "<div>\n",
       "<style scoped>\n",
       "    .dataframe tbody tr th:only-of-type {\n",
       "        vertical-align: middle;\n",
       "    }\n",
       "\n",
       "    .dataframe tbody tr th {\n",
       "        vertical-align: top;\n",
       "    }\n",
       "\n",
       "    .dataframe thead th {\n",
       "        text-align: right;\n",
       "    }\n",
       "</style>\n",
       "<table border=\"1\" class=\"dataframe\">\n",
       "  <thead>\n",
       "    <tr style=\"text-align: right;\">\n",
       "      <th></th>\n",
       "      <th>1</th>\n",
       "      <th>2</th>\n",
       "      <th>3</th>\n",
       "      <th>4</th>\n",
       "    </tr>\n",
       "  </thead>\n",
       "  <tbody>\n",
       "    <tr>\n",
       "      <th>0</th>\n",
       "      <td>1.0</td>\n",
       "      <td>2</td>\n",
       "      <td>3.0</td>\n",
       "      <td>4</td>\n",
       "    </tr>\n",
       "    <tr>\n",
       "      <th>1</th>\n",
       "      <td>NaN</td>\n",
       "      <td>3</td>\n",
       "      <td>4.0</td>\n",
       "      <td>5</td>\n",
       "    </tr>\n",
       "    <tr>\n",
       "      <th>2</th>\n",
       "      <td>3.0</td>\n",
       "      <td>4</td>\n",
       "      <td>NaN</td>\n",
       "      <td>6</td>\n",
       "    </tr>\n",
       "    <tr>\n",
       "      <th>3</th>\n",
       "      <td>4.0</td>\n",
       "      <td>5</td>\n",
       "      <td>6.0</td>\n",
       "      <td>7</td>\n",
       "    </tr>\n",
       "    <tr>\n",
       "      <th>4</th>\n",
       "      <td>5.0</td>\n",
       "      <td>6</td>\n",
       "      <td>7.0</td>\n",
       "      <td>8</td>\n",
       "    </tr>\n",
       "  </tbody>\n",
       "</table>\n",
       "</div>"
      ],
      "text/plain": [
       "     1  2    3  4\n",
       "0  1.0  2  3.0  4\n",
       "1  NaN  3  4.0  5\n",
       "2  3.0  4  NaN  6\n",
       "3  4.0  5  6.0  7\n",
       "4  5.0  6  7.0  8"
      ]
     },
     "execution_count": 154,
     "metadata": {},
     "output_type": "execute_result"
    }
   ],
   "source": [
    "# example = pd.DataFrame({1:[1,np.nan,3,4,5], \n",
    "#                         2:[2,3,4,5,6],\n",
    "#                         3:[3,4,np.nan,6,7],\n",
    "#                         4:[4,5,6,7,8]})\n",
    "# example\n",
    "\n",
    "# example[[1,2,3,4]].max(axis=1)"
   ]
  },
  {
   "cell_type": "code",
   "execution_count": 25,
   "id": "dominican-joseph",
   "metadata": {},
   "outputs": [
    {
     "data": {
      "text/plain": [
       "0"
      ]
     },
     "execution_count": 25,
     "metadata": {},
     "output_type": "execute_result"
    }
   ],
   "source": [
    "#all BORO CODE are the same\n",
    "(merged[\"BORO_CODE\"] != merged[\"borocode\"]).sum()"
   ]
  },
  {
   "cell_type": "code",
   "execution_count": 26,
   "id": "trying-merit",
   "metadata": {},
   "outputs": [],
   "source": [
    "merged = merged.drop('BORO_CODE', axis=1)"
   ]
  },
  {
   "cell_type": "code",
   "execution_count": 27,
   "id": "patent-alfred",
   "metadata": {},
   "outputs": [
    {
     "data": {
      "text/plain": [
       "0"
      ]
     },
     "execution_count": 27,
     "metadata": {},
     "output_type": "execute_result"
    }
   ],
   "source": [
    "#all BLOCK are the same\n",
    "(merged[\"BLOCK\"] != merged[\"block\"]).sum()"
   ]
  },
  {
   "cell_type": "code",
   "execution_count": 28,
   "id": "conscious-technician",
   "metadata": {},
   "outputs": [
    {
     "data": {
      "text/plain": [
       "0"
      ]
     },
     "execution_count": 28,
     "metadata": {},
     "output_type": "execute_result"
    }
   ],
   "source": [
    "#all LOT are the same\n",
    "(merged[\"LOT\"] != merged[\"lot\"]).sum()"
   ]
  },
  {
   "cell_type": "code",
   "execution_count": 29,
   "id": "recovered-tuesday",
   "metadata": {},
   "outputs": [],
   "source": [
    "merged = merged.drop('BLOCK', axis=1)\n",
    "merged = merged.drop('LOT', axis=1)"
   ]
  },
  {
   "cell_type": "code",
   "execution_count": 30,
   "id": "descending-tension",
   "metadata": {},
   "outputs": [],
   "source": [
    "merged.to_csv(\"./pluto_rodent_merged.csv\")"
   ]
  }
 ],
 "metadata": {
  "kernelspec": {
   "display_name": "Python 3",
   "language": "python",
   "name": "python3"
  },
  "language_info": {
   "codemirror_mode": {
    "name": "ipython",
    "version": 3
   },
   "file_extension": ".py",
   "mimetype": "text/x-python",
   "name": "python",
   "nbconvert_exporter": "python",
   "pygments_lexer": "ipython3",
   "version": "3.7.0"
  }
 },
 "nbformat": 4,
 "nbformat_minor": 5
}
