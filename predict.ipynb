{
 "cells": [
  {
   "cell_type": "code",
   "execution_count": 6,
   "id": "moral-atlantic",
   "metadata": {},
   "outputs": [],
   "source": [
    "import pandas as pd\n",
    "import numpy as np\n",
    "from matplotlib import pyplot as plt"
   ]
  },
  {
   "cell_type": "code",
   "execution_count": 7,
   "id": "sonic-england",
   "metadata": {},
   "outputs": [],
   "source": [
    "pd.set_option('display.max_columns', None)"
   ]
  },
  {
   "cell_type": "code",
   "execution_count": 8,
   "id": "another-ethics",
   "metadata": {},
   "outputs": [],
   "source": [
    "# df=pd.read_csv(\"./pluto_rodent_cat.csv\")\n",
    "pl=pd.read_csv(\"./pluto_add_indicater.csv\")"
   ]
  },
  {
   "cell_type": "code",
   "execution_count": 9,
   "id": "descending-division",
   "metadata": {},
   "outputs": [],
   "source": [
    "from sklearn import svm"
   ]
  },
  {
   "cell_type": "code",
   "execution_count": 10,
   "id": "hindu-customer",
   "metadata": {},
   "outputs": [
    {
     "data": {
      "text/plain": [
       "array([0])"
      ]
     },
     "execution_count": 10,
     "metadata": {},
     "output_type": "execute_result"
    }
   ],
   "source": [
    "X = [['0'], ['1'], ['2'], ['3']]\n",
    "Y = [0, 1, 2, 3]\n",
    "clf = svm.NuSVC(decision_function_shape='ovo')\n",
    "clf.fit(X, Y)\n",
    "clf.predict([['-1']])"
   ]
  },
  {
   "cell_type": "markdown",
   "id": "african-ranking",
   "metadata": {},
   "source": [
    "# Pick Attributes"
   ]
  },
  {
   "cell_type": "code",
   "execution_count": 11,
   "id": "finite-accountability",
   "metadata": {},
   "outputs": [],
   "source": [
    "pluto_cols_needed = [\n",
    "                    \"bldgclass\",\n",
    "                    \"numbldgs\",\n",
    "                    \"unitsres\",\n",
    "                    \"lottype\",\n",
    "                    \"assesstot\",\n",
    "                    \"histdist\",\n",
    "                    \"landmark\",\n",
    "                    \"bbl_indicator\"\n",
    "                    ]\n",
    "pl = pl[pluto_cols_needed]\n",
    "# pl = pl.astype('str')"
   ]
  },
  {
   "cell_type": "markdown",
   "id": "solved-spell",
   "metadata": {},
   "source": [
    "# Categorized"
   ]
  },
  {
   "cell_type": "code",
   "execution_count": 15,
   "id": "everyday-championship",
   "metadata": {},
   "outputs": [],
   "source": [
    "pl['bldgclass'] = pl['bldgclass'].astype(str).str[0]\n",
    "pl.loc[(pl[\"bldgclass\"]=='n'), \"bldgclass\"] = 0\n",
    "def label(df):\n",
    "    if df['bldgclass'] == 0:\n",
    "        return 0\n",
    "    else:\n",
    "        return ord(df['bldgclass']) - ord('A') + 1\n",
    "pl['bldgclass']=pl.apply(label,axis=1)"
   ]
  },
  {
   "cell_type": "code",
   "execution_count": 16,
   "id": "complex-nickel",
   "metadata": {},
   "outputs": [],
   "source": [
    "bins = [0,1,2,5,10,100,1850 ]\n",
    "pl['numbldgs'] = pd.cut(pl['numbldgs'], bins, right = False, include_lowest=True, labels = [0,1,2,3,4,5])"
   ]
  },
  {
   "cell_type": "code",
   "execution_count": 25,
   "id": "shared-cooperative",
   "metadata": {},
   "outputs": [],
   "source": [
    "pl.loc[(pl[\"numbldgs\"].isnull()), \"numbldgs\"] = 0"
   ]
  },
  {
   "cell_type": "code",
   "execution_count": 38,
   "id": "suburban-territory",
   "metadata": {},
   "outputs": [],
   "source": [
    "pl.loc[(pl[\"unitsres\"].isnull()), \"unitsres\"] = 0"
   ]
  },
  {
   "cell_type": "code",
   "execution_count": 39,
   "id": "atmospheric-prediction",
   "metadata": {},
   "outputs": [],
   "source": [
    "pl.loc[(pl[\"lottype\"].isnull()), \"lottype\"] = 0"
   ]
  },
  {
   "cell_type": "code",
   "execution_count": 17,
   "id": "threaded-clear",
   "metadata": {},
   "outputs": [],
   "source": [
    "def label(df):\n",
    "    if df['assesstot'] == 0:\n",
    "        return 0\n",
    "    if df['assesstot']<0.5*1e7:\n",
    "        return 1\n",
    "    elif df['assesstot']<1e7:\n",
    "        return 2\n",
    "    elif df['assesstot']<1.5*1e7:\n",
    "        return 3\n",
    "    elif df['assesstot']<2*1e7:\n",
    "        return 4\n",
    "    elif df['assesstot']<4*1e7:\n",
    "        return 5\n",
    "    elif df['assesstot']<1e8:\n",
    "        return 6\n",
    "    elif df['assesstot']<0.5*1e9:\n",
    "        return 7\n",
    "    elif df['assesstot']>=0.5*1e9:\n",
    "        return 8\n",
    "    else:\n",
    "        return 0\n",
    "pl['assesstot']=pl.apply(label,axis=1)"
   ]
  },
  {
   "cell_type": "code",
   "execution_count": 29,
   "id": "according-champion",
   "metadata": {},
   "outputs": [],
   "source": [
    "pl.loc[(pl[\"assesstot\"].isnull()), \"assesstot\"] = 0"
   ]
  },
  {
   "cell_type": "code",
   "execution_count": 18,
   "id": "sized-chambers",
   "metadata": {},
   "outputs": [
    {
     "data": {
      "text/html": [
       "<div>\n",
       "<style scoped>\n",
       "    .dataframe tbody tr th:only-of-type {\n",
       "        vertical-align: middle;\n",
       "    }\n",
       "\n",
       "    .dataframe tbody tr th {\n",
       "        vertical-align: top;\n",
       "    }\n",
       "\n",
       "    .dataframe thead th {\n",
       "        text-align: right;\n",
       "    }\n",
       "</style>\n",
       "<table border=\"1\" class=\"dataframe\">\n",
       "  <thead>\n",
       "    <tr style=\"text-align: right;\">\n",
       "      <th></th>\n",
       "      <th>bldgclass</th>\n",
       "      <th>numbldgs</th>\n",
       "      <th>unitsres</th>\n",
       "      <th>lottype</th>\n",
       "      <th>histdist</th>\n",
       "      <th>assesstot</th>\n",
       "      <th>landmark</th>\n",
       "      <th>bbl_indicator</th>\n",
       "    </tr>\n",
       "  </thead>\n",
       "  <tbody>\n",
       "    <tr>\n",
       "      <th>0</th>\n",
       "      <td>1</td>\n",
       "      <td>1</td>\n",
       "      <td>1.0</td>\n",
       "      <td>5.0</td>\n",
       "      <td>1</td>\n",
       "      <td>1.0</td>\n",
       "      <td>0</td>\n",
       "      <td>1</td>\n",
       "    </tr>\n",
       "    <tr>\n",
       "      <th>1</th>\n",
       "      <td>2</td>\n",
       "      <td>1</td>\n",
       "      <td>2.0</td>\n",
       "      <td>5.0</td>\n",
       "      <td>1</td>\n",
       "      <td>1.0</td>\n",
       "      <td>0</td>\n",
       "      <td>1</td>\n",
       "    </tr>\n",
       "    <tr>\n",
       "      <th>2</th>\n",
       "      <td>3</td>\n",
       "      <td>1</td>\n",
       "      <td>9.0</td>\n",
       "      <td>5.0</td>\n",
       "      <td>1</td>\n",
       "      <td>1.0</td>\n",
       "      <td>0</td>\n",
       "      <td>1</td>\n",
       "    </tr>\n",
       "    <tr>\n",
       "      <th>3</th>\n",
       "      <td>3</td>\n",
       "      <td>1</td>\n",
       "      <td>10.0</td>\n",
       "      <td>5.0</td>\n",
       "      <td>1</td>\n",
       "      <td>1.0</td>\n",
       "      <td>0</td>\n",
       "      <td>1</td>\n",
       "    </tr>\n",
       "    <tr>\n",
       "      <th>4</th>\n",
       "      <td>22</td>\n",
       "      <td>0</td>\n",
       "      <td>0.0</td>\n",
       "      <td>5.0</td>\n",
       "      <td>1</td>\n",
       "      <td>1.0</td>\n",
       "      <td>0</td>\n",
       "      <td>1</td>\n",
       "    </tr>\n",
       "  </tbody>\n",
       "</table>\n",
       "</div>"
      ],
      "text/plain": [
       "   bldgclass numbldgs  unitsres  lottype  histdist  assesstot  landmark  \\\n",
       "0          1        1       1.0      5.0         1        1.0         0   \n",
       "1          2        1       2.0      5.0         1        1.0         0   \n",
       "2          3        1       9.0      5.0         1        1.0         0   \n",
       "3          3        1      10.0      5.0         1        1.0         0   \n",
       "4         22        0       0.0      5.0         1        1.0         0   \n",
       "\n",
       "   bbl_indicator  \n",
       "0              1  \n",
       "1              1  \n",
       "2              1  \n",
       "3              1  \n",
       "4              1  "
      ]
     },
     "execution_count": 18,
     "metadata": {},
     "output_type": "execute_result"
    }
   ],
   "source": [
    "pl['histdist'] = pl['histdist'].astype('str')\n",
    "pl['landmark'] = pl['landmark'].astype('str')\n",
    "def label(df):\n",
    "    if df['histdist']==\"nan\":\n",
    "        return 0\n",
    "    else:\n",
    "        return 1\n",
    "pl['histdist']=pl.apply(label,axis=1)\n",
    "def label(df):\n",
    "    if df['landmark']==\"nan\":\n",
    "        return 0\n",
    "    else:\n",
    "        return 1\n",
    "pl['landmark']=pl.apply(label,axis=1)\n",
    "pl.head()"
   ]
  },
  {
   "cell_type": "code",
   "execution_count": 40,
   "id": "paperback-blackjack",
   "metadata": {},
   "outputs": [
    {
     "data": {
      "text/plain": [
       "[[1.0, 1.0, 1.0, 5.0, 1.0, 1.0, 0.0, 1.0],\n",
       " [2.0, 1.0, 2.0, 5.0, 1.0, 1.0, 0.0, 1.0],\n",
       " [3.0, 1.0, 9.0, 5.0, 1.0, 1.0, 0.0, 1.0],\n",
       " [3.0, 1.0, 10.0, 5.0, 1.0, 1.0, 0.0, 1.0],\n",
       " [22.0, 0.0, 0.0, 5.0, 1.0, 1.0, 0.0, 1.0]]"
      ]
     },
     "execution_count": 40,
     "metadata": {},
     "output_type": "execute_result"
    }
   ],
   "source": [
    "pl_ls = pl.values.tolist()\n",
    "len(pl_ls)\n",
    "pl_ls[:5]"
   ]
  },
  {
   "cell_type": "code",
   "execution_count": 41,
   "id": "seeing-mineral",
   "metadata": {},
   "outputs": [
    {
     "data": {
      "text/plain": [
       "bldgclass  numbldgs  unitsres  lottype  histdist  assesstot  landmark  bbl_indicator\n",
       "1          1         1.0       5.0      1         1.0        0         0                142632\n",
       "2          1         2.0       5.0      1         1.0        0         0                102212\n",
       "1          2         1.0       5.0      1         1.0        0         0                 87556\n",
       "2          1         2.0       5.0      1         1.0        0         1                 63049\n",
       "           2         2.0       5.0      1         1.0        0         0                 47610\n",
       "                                                                                         ...  \n",
       "4          3         252.0     5.0      1         2.0        0         1                     1\n",
       "                                                                       0                     1\n",
       "                               1.0      1         2.0        0         1                     1\n",
       "                     245.0     1.0      1         2.0        0         0                     1\n",
       "26         4         0.0       5.0      1         7.0        1         0                     1\n",
       "Length: 10792, dtype: int64"
      ]
     },
     "execution_count": 41,
     "metadata": {},
     "output_type": "execute_result"
    }
   ],
   "source": [
    "pl.value_counts()"
   ]
  },
  {
   "cell_type": "code",
   "execution_count": 43,
   "id": "double-macedonia",
   "metadata": {},
   "outputs": [
    {
     "data": {
      "text/plain": [
       "0"
      ]
     },
     "execution_count": 43,
     "metadata": {},
     "output_type": "execute_result"
    }
   ],
   "source": [
    "pl[\"unitsres\"].isnull().sum()"
   ]
  },
  {
   "cell_type": "markdown",
   "id": "bottom-uncertainty",
   "metadata": {},
   "source": [
    "# Split Dataset"
   ]
  },
  {
   "cell_type": "code",
   "execution_count": 9,
   "id": "spare-negative",
   "metadata": {},
   "outputs": [
    {
     "data": {
      "text/plain": [
       "0    545300\n",
       "1    313768\n",
       "Name: bbl_indicator, dtype: int64"
      ]
     },
     "execution_count": 9,
     "metadata": {},
     "output_type": "execute_result"
    }
   ],
   "source": [
    "pl['bbl_indicator'].value_counts()"
   ]
  },
  {
   "cell_type": "code",
   "execution_count": 10,
   "id": "bright-victoria",
   "metadata": {},
   "outputs": [],
   "source": [
    "pl1 = pl[pl['bbl_indicator']==1]\n",
    "pl0 = pl[pl['bbl_indicator']==0]"
   ]
  },
  {
   "cell_type": "code",
   "execution_count": 11,
   "id": "official-proxy",
   "metadata": {},
   "outputs": [
    {
     "data": {
      "text/plain": [
       "1    313768\n",
       "Name: bbl_indicator, dtype: int64"
      ]
     },
     "execution_count": 11,
     "metadata": {},
     "output_type": "execute_result"
    }
   ],
   "source": [
    "pl1['bbl_indicator'].value_counts()"
   ]
  },
  {
   "cell_type": "code",
   "execution_count": 12,
   "id": "apparent-andorra",
   "metadata": {},
   "outputs": [
    {
     "data": {
      "text/plain": [
       "0    545300\n",
       "Name: bbl_indicator, dtype: int64"
      ]
     },
     "execution_count": 12,
     "metadata": {},
     "output_type": "execute_result"
    }
   ],
   "source": [
    "pl0['bbl_indicator'].value_counts()"
   ]
  },
  {
   "cell_type": "code",
   "execution_count": 13,
   "id": "necessary-bidding",
   "metadata": {},
   "outputs": [],
   "source": [
    "split_point = int(pl1.shape[0]*0.6)"
   ]
  },
  {
   "cell_type": "code",
   "execution_count": 14,
   "id": "electrical-template",
   "metadata": {},
   "outputs": [],
   "source": [
    "# import random"
   ]
  },
  {
   "cell_type": "code",
   "execution_count": 15,
   "id": "commercial-warning",
   "metadata": {},
   "outputs": [],
   "source": [
    "# pred = pl0[split_point:]\n",
    "# pl0 = pl0[:split_point]\n",
    "# train = pd.concat([pl0, pl1[:split_point]])\n",
    "# train_ls = train.values.tolist()\n",
    "# # random.shuffle(train_ls)\n",
    "# x_train, y_train = np.split(train_ls, (train.shape[1]-1,), axis=1)"
   ]
  },
  {
   "cell_type": "code",
   "execution_count": 16,
   "id": "absolute-china",
   "metadata": {},
   "outputs": [],
   "source": [
    "# test = pl1[split_point:]\n",
    "# test_ls = test.values.tolist()\n",
    "# # random.shuffle(test_ls)\n",
    "# x_test, y_test = np.split(test_ls, (test.shape[1]-1,), axis=1)"
   ]
  },
  {
   "cell_type": "markdown",
   "id": "permanent-musical",
   "metadata": {},
   "source": [
    "# Prediction"
   ]
  },
  {
   "cell_type": "code",
   "execution_count": 44,
   "id": "after-korea",
   "metadata": {},
   "outputs": [
    {
     "name": "stderr",
     "output_type": "stream",
     "text": [
      "C:\\Users\\admin\\Anaconda3\\lib\\site-packages\\sklearn\\utils\\validation.py:72: DataConversionWarning: A column-vector y was passed when a 1d array was expected. Please change the shape of y to (n_samples, ), for example using ravel().\n",
      "  return f(**kwargs)\n"
     ]
    }
   ],
   "source": [
    "from sklearn.model_selection import train_test_split\n",
    "x, y = np.split(pl_ls, (pl.shape[1]-1,), axis=1)\n",
    "x_train, x_test, y_train, y_test = train_test_split(x, y, train_size=0.6)\n",
    "clf.fit(x_train, y_train)\n",
    "y_pred = clf.predict(x_test)"
   ]
  },
  {
   "cell_type": "code",
   "execution_count": 45,
   "id": "matched-exercise",
   "metadata": {},
   "outputs": [
    {
     "data": {
      "text/html": [
       "<div>\n",
       "<style scoped>\n",
       "    .dataframe tbody tr th:only-of-type {\n",
       "        vertical-align: middle;\n",
       "    }\n",
       "\n",
       "    .dataframe tbody tr th {\n",
       "        vertical-align: top;\n",
       "    }\n",
       "\n",
       "    .dataframe thead th {\n",
       "        text-align: right;\n",
       "    }\n",
       "</style>\n",
       "<table border=\"1\" class=\"dataframe\">\n",
       "  <thead>\n",
       "    <tr style=\"text-align: right;\">\n",
       "      <th></th>\n",
       "      <th>0.0</th>\n",
       "      <th>1.0</th>\n",
       "      <th>accuracy</th>\n",
       "      <th>macro avg</th>\n",
       "      <th>weighted avg</th>\n",
       "    </tr>\n",
       "  </thead>\n",
       "  <tbody>\n",
       "    <tr>\n",
       "      <th>precision</th>\n",
       "      <td>0.685348</td>\n",
       "      <td>0.423133</td>\n",
       "      <td>0.563144</td>\n",
       "      <td>0.554240</td>\n",
       "      <td>0.589585</td>\n",
       "    </tr>\n",
       "    <tr>\n",
       "      <th>recall</th>\n",
       "      <td>0.576481</td>\n",
       "      <td>0.539961</td>\n",
       "      <td>0.563144</td>\n",
       "      <td>0.558221</td>\n",
       "      <td>0.563144</td>\n",
       "    </tr>\n",
       "    <tr>\n",
       "      <th>f1-score</th>\n",
       "      <td>0.626218</td>\n",
       "      <td>0.474461</td>\n",
       "      <td>0.563144</td>\n",
       "      <td>0.550340</td>\n",
       "      <td>0.570795</td>\n",
       "    </tr>\n",
       "    <tr>\n",
       "      <th>support</th>\n",
       "      <td>218132.000000</td>\n",
       "      <td>125496.000000</td>\n",
       "      <td>0.563144</td>\n",
       "      <td>343628.000000</td>\n",
       "      <td>343628.000000</td>\n",
       "    </tr>\n",
       "  </tbody>\n",
       "</table>\n",
       "</div>"
      ],
      "text/plain": [
       "                     0.0            1.0  accuracy      macro avg  \\\n",
       "precision       0.685348       0.423133  0.563144       0.554240   \n",
       "recall          0.576481       0.539961  0.563144       0.558221   \n",
       "f1-score        0.626218       0.474461  0.563144       0.550340   \n",
       "support    218132.000000  125496.000000  0.563144  343628.000000   \n",
       "\n",
       "            weighted avg  \n",
       "precision       0.589585  \n",
       "recall          0.563144  \n",
       "f1-score        0.570795  \n",
       "support    343628.000000  "
      ]
     },
     "execution_count": 45,
     "metadata": {},
     "output_type": "execute_result"
    }
   ],
   "source": [
    "from sklearn.metrics import classification_report\n",
    "report = classification_report(y_test, y_pred, output_dict=True)\n",
    "pd.DataFrame.from_dict(report)"
   ]
  },
  {
   "cell_type": "code",
   "execution_count": 46,
   "id": "accessible-pilot",
   "metadata": {},
   "outputs": [
    {
     "data": {
      "text/plain": [
       "125496"
      ]
     },
     "execution_count": 46,
     "metadata": {},
     "output_type": "execute_result"
    }
   ],
   "source": [
    "cnt = 0\n",
    "for each in y_test:\n",
    "    if each == 1:\n",
    "        cnt += 1\n",
    "cnt"
   ]
  },
  {
   "cell_type": "code",
   "execution_count": 47,
   "id": "boolean-diesel",
   "metadata": {},
   "outputs": [
    {
     "data": {
      "text/plain": [
       "343628"
      ]
     },
     "execution_count": 47,
     "metadata": {},
     "output_type": "execute_result"
    }
   ],
   "source": [
    "len(y_test)"
   ]
  },
  {
   "cell_type": "code",
   "execution_count": 48,
   "id": "hydraulic-principle",
   "metadata": {},
   "outputs": [
    {
     "data": {
      "text/plain": [
       "160146"
      ]
     },
     "execution_count": 48,
     "metadata": {},
     "output_type": "execute_result"
    }
   ],
   "source": [
    "cnt = 0\n",
    "for each in y_pred:\n",
    "    if each == 1:\n",
    "        cnt += 1\n",
    "cnt"
   ]
  },
  {
   "cell_type": "code",
   "execution_count": null,
   "id": "prescription-newark",
   "metadata": {},
   "outputs": [],
   "source": []
  }
 ],
 "metadata": {
  "kernelspec": {
   "display_name": "Python 3",
   "language": "python",
   "name": "python3"
  },
  "language_info": {
   "codemirror_mode": {
    "name": "ipython",
    "version": 3
   },
   "file_extension": ".py",
   "mimetype": "text/x-python",
   "name": "python",
   "nbconvert_exporter": "python",
   "pygments_lexer": "ipython3",
   "version": "3.7.0"
  }
 },
 "nbformat": 4,
 "nbformat_minor": 5
}
